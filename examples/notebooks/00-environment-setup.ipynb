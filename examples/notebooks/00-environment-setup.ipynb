{
 "cells": [
  {
   "cell_type": "markdown",
   "id": "97f6a4b6",
   "metadata": {},
   "source": [
    "\n",
    "# Set up the the environment for using Picas\n",
    "\n",
    "## references\n",
    "- the official picas client repository: https://github.com/sara-nl/picasclient\n",
    "- the main couchdb database: https://picas.surfsara.nl:6984\n",
    "- the couchdb web ui login page: https://picas.grid.sara.nl:6984/_utils/#login\n",
    "- picas spider workflows: https://doc.spider.surfsara.nl/en/latest/Pages/workflows.html#picas\n",
    "- more documentation: https://doc.grid.surfsara.nl/en/latest/\n",
    "- change the picas couchdb password: https://doc.grid.surfsara.nl/en/latest/Pages/Practices/picas/picas_change_password.html\n",
    "\n",
    "## Minimum requirements (for local usage on your machine)\n",
    "It is assumed that you are running a linux like operating system where git and python3 are\n",
    "already available. The following commands should be available in your terminal:\n",
    "- `git`\n",
    "- `python3`\n",
    "- `pip3`\n",
    "- `curl`"
   ]
  },
  {
   "cell_type": "markdown",
   "id": "8af09559",
   "metadata": {
    "lines_to_next_cell": 0
   },
   "source": [
    "## Setup the workspace and obtain a copy of the picas client"
   ]
  },
  {
   "cell_type": "code",
   "execution_count": null,
   "id": "840f2598",
   "metadata": {},
   "outputs": [],
   "source": [
    "! mkdir -p ~/picas_tutorial"
   ]
  },
  {
   "cell_type": "code",
   "execution_count": null,
   "id": "099d42a7",
   "metadata": {},
   "outputs": [],
   "source": [
    "%cd ~/picas_tutorial"
   ]
  },
  {
   "cell_type": "markdown",
   "id": "1bf20000",
   "metadata": {
    "lines_to_next_cell": 0
   },
   "source": [
    "## Clone the picas client repository"
   ]
  },
  {
   "cell_type": "code",
   "execution_count": null,
   "id": "66c4a243",
   "metadata": {},
   "outputs": [],
   "source": [
    "! git clone https://github.com/sara-nl/picasclient.git\n",
    "! ls -l picasclient"
   ]
  },
  {
   "cell_type": "code",
   "execution_count": null,
   "id": "5e76f4d4",
   "metadata": {},
   "outputs": [],
   "source": [
    "%cd picasclient\n",
    "! git checkout 1.0.1   # .. todo:: update to latest version before the tutorial"
   ]
  },
  {
   "cell_type": "code",
   "execution_count": null,
   "id": "01f1f1e2",
   "metadata": {},
   "outputs": [],
   "source": [
    "! git status\n",
    "! ls"
   ]
  },
  {
   "cell_type": "markdown",
   "id": "4813ae5c",
   "metadata": {},
   "source": [
    "## Setup virtual environemnt on clusters at SURF\n",
    "\n",
    "### Spider"
   ]
  },
  {
   "cell_type": "code",
   "execution_count": null,
   "id": "a71adfd4",
   "metadata": {},
   "outputs": [],
   "source": [
    "! source /cvmfs/software.eessi.io/versions/2023.06/init/bash\n",
    "! module load Python/3.11.3-GCCcore-12.3.0"
   ]
  },
  {
   "cell_type": "markdown",
   "id": "530b6079",
   "metadata": {},
   "source": [
    "### Snellius"
   ]
  },
  {
   "cell_type": "code",
   "execution_count": null,
   "id": "8dab3c57",
   "metadata": {
    "lines_to_next_cell": 2
   },
   "outputs": [],
   "source": [
    "! module load 2024\n",
    "! module load Python/3.12.3-GCCcore-13.3.0"
   ]
  },
  {
   "cell_type": "markdown",
   "id": "27229f24",
   "metadata": {
    "lines_to_next_cell": 0
   },
   "source": [
    "## Create the virtual environment and activate it"
   ]
  },
  {
   "cell_type": "code",
   "execution_count": null,
   "id": "81f2533c",
   "metadata": {},
   "outputs": [],
   "source": [
    "! mkdir .venv\n",
    "! python3 -m venv .venv/picas-tutorial\n",
    "! . .venv/picas-tutorial/bin/activate"
   ]
  },
  {
   "cell_type": "markdown",
   "id": "a9e7a3a5",
   "metadata": {},
   "source": [
    "## Connect / execute example notebooks on the clusters\n",
    "https://doc.spider.surfsara.nl/en/latest/Pages/jupyter_notebooks.html"
   ]
  },
  {
   "cell_type": "markdown",
   "id": "9393bd47",
   "metadata": {
    "lines_to_next_cell": 0
   },
   "source": [
    "## Activate the environment and install picas using pip"
   ]
  },
  {
   "cell_type": "code",
   "execution_count": null,
   "id": "300d06c9",
   "metadata": {},
   "outputs": [],
   "source": [
    "! python3 -m pip install --upgrade pip\n",
    "! pip install --user picas"
   ]
  },
  {
   "cell_type": "markdown",
   "id": "d30964ad",
   "metadata": {
    "lines_to_next_cell": 0
   },
   "source": [
    "## [optional] Install PiCaS from the repo"
   ]
  },
  {
   "cell_type": "code",
   "execution_count": null,
   "id": "b1ac14af",
   "metadata": {
    "lines_to_next_cell": 0
   },
   "outputs": [],
   "source": [
    "! python3 -m pip install --upgrade pip\n",
    "! python3 -m pip install poetry"
   ]
  },
  {
   "cell_type": "code",
   "execution_count": null,
   "id": "ab5a4302",
   "metadata": {
    "lines_to_next_cell": 0
   },
   "outputs": [],
   "source": [
    "! python3 -m poetry lock"
   ]
  },
  {
   "cell_type": "code",
   "execution_count": null,
   "id": "1e8fcb62",
   "metadata": {},
   "outputs": [],
   "source": [
    "! python3 -m poetry install"
   ]
  },
  {
   "cell_type": "markdown",
   "id": "cb811a77",
   "metadata": {},
   "source": [
    "## Next tutorials\n",
    "The upcoming tutorials are based on the picasclient [README](https://github.com/sara-nl/picasclient/blob/mher/spd-512/course-material/README.md).\n",
    "\n",
    "The notebooks contain more details and explanations that can be be executed interactively.\n",
    "\n",
    "### Run a jupyter notebook server\n",
    "Install the jupyterlab package in the virtual environment"
   ]
  },
  {
   "cell_type": "code",
   "execution_count": null,
   "id": "e0ab8e99",
   "metadata": {},
   "outputs": [],
   "source": [
    "! python3 -m pip install jupyterlab"
   ]
  },
  {
   "cell_type": "markdown",
   "id": "e0e8e0e1",
   "metadata": {},
   "source": [
    "run the jupyterlab server, this will work on all the platforms."
   ]
  },
  {
   "cell_type": "code",
   "execution_count": null,
   "id": "e1d065f6",
   "metadata": {},
   "outputs": [],
   "source": [
    "! jupyter lab --no-browser --ip=\"127.0.01\""
   ]
  },
  {
   "cell_type": "markdown",
   "id": "ba50016c",
   "metadata": {},
   "source": [
    "the expected output should be something like:\n",
    "```bash\n",
    "(picas-tutorial) {EESSI 2023.06} [surfadvisors-mkazandjian@ui-02 picasclient]$ jupyter lab --no-browser --ip=\"127.0.0.1\"\n",
    "[I 2025-08-25 23:50:51.633 ServerApp] jupyter_lsp | extension was successfully linked.\n",
    "[I 2025-08-25 23:50:51.638 ServerApp] jupyter_server_terminals | extension was successfully linked.\n",
    "[I 2025-08-25 23:50:51.644 ServerApp] jupyterlab | extension was successfully linked.\n",
    "[I 2025-08-25 23:50:52.127 ServerApp] notebook_shim | extension was successfully linked.\n",
    "[I 2025-08-25 23:50:52.163 ServerApp] notebook_shim | extension was successfully loaded.\n",
    "[I 2025-08-25 23:50:52.165 ServerApp] jupyter_lsp | extension was successfully loaded.\n",
    "[I 2025-08-25 23:50:52.167 ServerApp] jupyter_server_terminals | extension was successfully loaded.\n",
    "[I 2025-08-25 23:50:52.170 LabApp] JupyterLab extension loaded from /home/surfadvisors-mkazandjian/picas_tutorial/picasclient/.venv/picas-tutorial/lib/python3.11/site-packages/jupyterlab\n",
    "[I 2025-08-25 23:50:52.170 LabApp] JupyterLab application directory is /home/surfadvisors-mkazandjian/picas_tutorial/picasclient/.venv/picas-tutorial/share/jupyter/lab\n",
    "[I 2025-08-25 23:50:52.171 LabApp] Extension Manager is 'pypi'.\n",
    "[I 2025-08-25 23:50:52.210 ServerApp] jupyterlab | extension was successfully loaded.\n",
    "[I 2025-08-25 23:50:52.210 ServerApp] Serving notebooks from local directory: /home/surfadvisors-mkazandjian/picas_tutorial/picasclient\n",
    "[I 2025-08-25 23:50:52.211 ServerApp] Jupyter Server 2.17.0 is running at:\n",
    "[I 2025-08-25 23:50:52.211 ServerApp] http://127.0.0.1:8888/lab?token=a9c930fe6c2d5e61845a543affac02dac7d050aeaa76a1f9\n",
    "[I 2025-08-25 23:50:52.211 ServerApp] Use Control-C to stop this server and shut down all kernels (twice to skip confirmation).\n",
    "[C 2025-08-25 23:50:52.215 ServerApp]\n",
    "\n",
    "    To access the server, open this file in a browser:\n",
    "        file:///home/surfadvisors-mkazandjian/.local/share/jupyter/runtime/jpserver-1162549-open.html\n",
    "    Or copy and paste one of these URLs:\n",
    "        http://127.0.0.1:8888/lab?token=a9c930fe6c2d5e61845a543affac02dac7d050aeaa76a1f9\n",
    "````"
   ]
  },
  {
   "cell_type": "markdown",
   "id": "4b594736",
   "metadata": {},
   "source": [
    "You can now connect to the jupyterlab server using an ssh tunnel as explained in the\n",
    "[documentation](https://doc.spider.surfsara.nl/en/latest/Pages/jupyter_notebooks.html)"
   ]
  },
  {
   "cell_type": "code",
   "execution_count": null,
   "id": "236910e7",
   "metadata": {},
   "outputs": [],
   "source": [
    "! ssh -L 127.0.01:8888:127.0.0.1:8888 <user>@spider.surfsara.nl -N"
   ]
  },
  {
   "cell_type": "markdown",
   "id": "a930014f",
   "metadata": {},
   "source": [
    "open your browser and go to the url: http://localhost:8888"
   ]
  }
 ],
 "metadata": {
  "jupytext": {
   "cell_metadata_filter": "-all",
   "main_language": "python",
   "notebook_metadata_filter": "-all"
  }
 },
 "nbformat": 4,
 "nbformat_minor": 5
}

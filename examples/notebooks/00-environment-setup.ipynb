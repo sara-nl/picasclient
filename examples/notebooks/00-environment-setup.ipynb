{
 "cells": [
  {
   "cell_type": "markdown",
   "id": "79432081",
   "metadata": {},
   "source": [
    "\n",
    "# Set up the the environment for using Picas\n",
    "\n",
    "## references\n",
    "- the official picas client repository: https://github.com/sara-nl/picasclient\n",
    "- the main couchdb database: https://picas.surfsara.nl:6984\n",
    "- the couchdb web ui login page: https://picas.grid.sara.nl:6984/_utils/#login\n",
    "- picas spider workflows: https://doc.spider.surfsara.nl/en/latest/Pages/workflows.html#picas\n",
    "- more documentation: https://doc.grid.surfsara.nl/en/latest/\n",
    "- change the picas couchdb password: https://doc.grid.surfsara.nl/en/latest/Pages/Practices/picas/picas_change_password.html\n",
    "\n",
    "## Minimum requirements (for local usage on your machine)\n",
    "It is assumed that you are running a linux like operating system where git and python3 are\n",
    "already available. The following commands should be available in your terminal:\n",
    "- `git`\n",
    "- `python3`\n",
    "- `pip3`\n",
    "- `curl`"
   ]
  },
  {
   "cell_type": "markdown",
   "id": "7156f272",
   "metadata": {
    "lines_to_next_cell": 0
   },
   "source": [
    "## Setup the workspace and obtain a copy of the picas client"
   ]
  },
  {
   "cell_type": "code",
   "execution_count": null,
   "id": "e094be55",
   "metadata": {},
   "outputs": [],
   "source": [
    "! mkdir -p ~/picas_tutorial"
   ]
  },
  {
   "cell_type": "code",
   "execution_count": null,
   "id": "cfadfe26",
   "metadata": {},
   "outputs": [],
   "source": [
    "%cd ~/picas_tutorial"
   ]
  },
  {
   "cell_type": "markdown",
   "id": "ff0c3280",
   "metadata": {
    "lines_to_next_cell": 0
   },
   "source": [
    "## Clone the picas client repository"
   ]
  },
  {
   "cell_type": "code",
   "execution_count": null,
   "id": "7bb7de37",
   "metadata": {},
   "outputs": [],
   "source": [
    "! git clone --branch 1.1.0 --depth 1 https://github.com/sara-nl/picasclient.git\n",
    "#! git clone --branch master --depth 1 https://github.com/sara-nl/picasclient.git"
   ]
  },
  {
   "cell_type": "code",
   "execution_count": null,
   "id": "615f60bf",
   "metadata": {},
   "outputs": [],
   "source": [
    "%cd picasclient"
   ]
  },
  {
   "cell_type": "code",
   "execution_count": null,
   "id": "96e38629",
   "metadata": {},
   "outputs": [],
   "source": [
    "# ensure that you are on the right branch\n",
    "! git status\n",
    "! ls"
   ]
  },
  {
   "cell_type": "markdown",
   "id": "d14d4d41",
   "metadata": {},
   "source": [
    "## Setup virtual environment on clusters at SURF\n",
    "### [optional] if you are using your local machine you can skip this section\n",
    "\n",
    "### Spider"
   ]
  },
  {
   "cell_type": "code",
   "execution_count": null,
   "id": "6ff23d8b",
   "metadata": {},
   "outputs": [],
   "source": [
    "! source /cvmfs/software.eessi.io/versions/2023.06/init/bash\n",
    "! module load Python/3.11.3-GCCcore-12.3.0"
   ]
  },
  {
   "cell_type": "markdown",
   "id": "4ca8ad36",
   "metadata": {},
   "source": [
    "### Snellius"
   ]
  },
  {
   "cell_type": "code",
   "execution_count": null,
   "id": "dc1547bb",
   "metadata": {
    "lines_to_next_cell": 2
   },
   "outputs": [],
   "source": [
    "! module load 2024\n",
    "! module load Python/3.12.3-GCCcore-13.3.0"
   ]
  },
  {
   "cell_type": "markdown",
   "id": "15874326",
   "metadata": {},
   "source": [
    "## Create the virtual environment and activate it"
   ]
  },
  {
   "cell_type": "code",
   "execution_count": null,
   "id": "89b33b1e",
   "metadata": {},
   "outputs": [],
   "source": [
    "%cd .."
   ]
  },
  {
   "cell_type": "code",
   "execution_count": null,
   "id": "3c472a4a",
   "metadata": {
    "lines_to_next_cell": 2
   },
   "outputs": [],
   "source": [
    "! mkdir .venv\n",
    "! python3 -m venv .venv/picas-tutorial\n",
    "! . .venv/picas-tutorial/bin/activate"
   ]
  },
  {
   "cell_type": "markdown",
   "id": "f7dbab86",
   "metadata": {
    "lines_to_next_cell": 0
   },
   "source": [
    "## Activate the environment and install picas using pip"
   ]
  },
  {
   "cell_type": "code",
   "execution_count": null,
   "id": "c7d68c05",
   "metadata": {},
   "outputs": [],
   "source": [
    "! python3 -m pip install --upgrade pip\n",
    "! pip install picas\n",
    "# verify that picas is installed\n",
    "! pip freeze | grep picas"
   ]
  },
  {
   "cell_type": "markdown",
   "id": "0ae9f8f3",
   "metadata": {
    "lines_to_next_cell": 0
   },
   "source": [
    "## [optional] Install PiCaS from the repo"
   ]
  },
  {
   "cell_type": "code",
   "execution_count": null,
   "id": "6900bc40",
   "metadata": {
    "lines_to_next_cell": 0
   },
   "outputs": [],
   "source": [
    "! python3 -m pip install --upgrade pip\n",
    "! python3 -m pip install poetry"
   ]
  },
  {
   "cell_type": "code",
   "execution_count": null,
   "id": "7719e47b",
   "metadata": {
    "lines_to_next_cell": 0
   },
   "outputs": [],
   "source": [
    "! python3 -m poetry lock"
   ]
  },
  {
   "cell_type": "code",
   "execution_count": null,
   "id": "6129d9a2",
   "metadata": {},
   "outputs": [],
   "source": [
    "! python3 -m poetry install"
   ]
  },
  {
   "cell_type": "markdown",
   "id": "416fab94",
   "metadata": {},
   "source": [
    "## Next tutorials\n",
    "The upcoming tutorials are based on the picasclient [README](https://github.com/sara-nl/picasclient/blob/master/README.md).\n",
    "\n",
    "The notebooks contain more details and explanations that can be be executed interactively."
   ]
  },
  {
   "cell_type": "markdown",
   "id": "3bd30c4e",
   "metadata": {},
   "source": [
    "## Connect / execute example notebooks on the clusters\n",
    "https://doc.spider.surfsara.nl/en/latest/Pages/jupyter_notebooks.html\n",
    "\n",
    "### Run a jupyter notebook server\n",
    "Install the jupyterlab package in the virtual environment"
   ]
  },
  {
   "cell_type": "code",
   "execution_count": null,
   "id": "a712317d",
   "metadata": {},
   "outputs": [],
   "source": [
    "! python3 -m pip install jupyterlab"
   ]
  },
  {
   "cell_type": "markdown",
   "id": "03a7aaf5",
   "metadata": {},
   "source": [
    "run the jupyterlab server, this will work on all the platforms."
   ]
  },
  {
   "cell_type": "code",
   "execution_count": null,
   "id": "f482ac7f",
   "metadata": {},
   "outputs": [],
   "source": [
    "! jupyter lab --no-browser --ip=\"127.0.0.1\""
   ]
  },
  {
   "cell_type": "markdown",
   "id": "fad4cf6d",
   "metadata": {},
   "source": [
    "the expected output should be something like:\n",
    "```bash\n",
    "(picas-tutorial) {EESSI 2023.06} [surfadvisors-mkazandjian@ui-02 picasclient]$ jupyter lab --no-browser --ip=\"127.0.0.1\"\n",
    "[I 2025-08-25 23:50:51.633 ServerApp] jupyter_lsp | extension was successfully linked.\n",
    "[I 2025-08-25 23:50:51.638 ServerApp] jupyter_server_terminals | extension was successfully linked.\n",
    "[I 2025-08-25 23:50:51.644 ServerApp] jupyterlab | extension was successfully linked.\n",
    "[I 2025-08-25 23:50:52.127 ServerApp] notebook_shim | extension was successfully linked.\n",
    "[I 2025-08-25 23:50:52.163 ServerApp] notebook_shim | extension was successfully loaded.\n",
    "[I 2025-08-25 23:50:52.165 ServerApp] jupyter_lsp | extension was successfully loaded.\n",
    "[I 2025-08-25 23:50:52.167 ServerApp] jupyter_server_terminals | extension was successfully loaded.\n",
    "[I 2025-08-25 23:50:52.170 LabApp] JupyterLab extension loaded from /home/surfadvisors-mkazandjian/picas_tutorial/picasclient/.venv/picas-tutorial/lib/python3.11/site-packages/jupyterlab\n",
    "[I 2025-08-25 23:50:52.170 LabApp] JupyterLab application directory is /home/surfadvisors-mkazandjian/picas_tutorial/picasclient/.venv/picas-tutorial/share/jupyter/lab\n",
    "[I 2025-08-25 23:50:52.171 LabApp] Extension Manager is 'pypi'.\n",
    "[I 2025-08-25 23:50:52.210 ServerApp] jupyterlab | extension was successfully loaded.\n",
    "[I 2025-08-25 23:50:52.210 ServerApp] Serving notebooks from local directory: /home/surfadvisors-mkazandjian/picas_tutorial/picasclient\n",
    "[I 2025-08-25 23:50:52.211 ServerApp] Jupyter Server 2.17.0 is running at:\n",
    "[I 2025-08-25 23:50:52.211 ServerApp] http://127.0.0.1:8888/lab?token=a9c930fe6c2d5e61845a543affac02dac7d050aeaa76a1f9\n",
    "[I 2025-08-25 23:50:52.211 ServerApp] Use Control-C to stop this server and shut down all kernels (twice to skip confirmation).\n",
    "[C 2025-08-25 23:50:52.215 ServerApp]\n",
    "\n",
    "    To access the server, open this file in a browser:\n",
    "        file:///home/surfadvisors-mkazandjian/.local/share/jupyter/runtime/jpserver-1162549-open.html\n",
    "    Or copy and paste one of these URLs:\n",
    "        http://127.0.0.1:8888/lab?token=a9c930fe6c2d5e61845a543affac02dac7d050aeaa76a1f9\n",
    "````"
   ]
  },
  {
   "cell_type": "markdown",
   "id": "91a960bc",
   "metadata": {
    "lines_to_next_cell": 0
   },
   "source": [
    "[optional]\n",
    "If you are running on a cluster you can not open the url directly in your browser.\n",
    "You can now connect to the jupyterlab server using an ssh tunnel using the command below:\n",
    "\n",
    "pick a random port on your local machine, e.g. 8888 (see below for a bash function that\n",
    "gives you a random port)"
   ]
  },
  {
   "cell_type": "code",
   "execution_count": null,
   "id": "783d984c",
   "metadata": {},
   "outputs": [],
   "source": [
    "! ssh -L 127.0.0.1:8888:127.0.0.1:8888 my_user@spider.surf.nl -N"
   ]
  },
  {
   "cell_type": "code",
   "execution_count": null,
   "id": "c613f1ac",
   "metadata": {},
   "outputs": [],
   "source": [
    "# (if needed - use -4 to force using ipv4)\n",
    "! ssh -4 -L 127.0.0.1:8888:127.0.0.1:8888 my_user@spider.surf.nl -N"
   ]
  },
  {
   "cell_type": "code",
   "execution_count": null,
   "id": "46e2b6aa",
   "metadata": {
    "lines_to_next_cell": 0
   },
   "outputs": [],
   "source": [
    "# if needed - most likey yes, pick a random port on your local machine"
   ]
  },
  {
   "cell_type": "markdown",
   "id": "bd8ea285",
   "metadata": {},
   "source": [
    "open your browser and go to the url: http://localhost:8888"
   ]
  },
  {
   "cell_type": "markdown",
   "id": "65050555",
   "metadata": {},
   "source": [
    "[optional]\n",
    "If you want to find a random port on your local machine you can use the following bash"
   ]
  },
  {
   "cell_type": "code",
   "execution_count": null,
   "id": "7ec7b6c7",
   "metadata": {
    "lines_to_next_cell": 2
   },
   "outputs": [],
   "source": [
    "%%bash\n",
    "random_unused_port ()\n",
    "{\n",
    "    ( netstat --listening --all --tcp --numeric |\n",
    "      sed '1,2d; s/.*:\\([0-9]*\\).*/\\1/' |\n",
    "      sort -n | uniq;\n",
    "      seq 1 1000;\n",
    "      seq 1 65535\n",
    "    ) | sort -n | uniq -u | shuf -n 1\n",
    "}\n",
    "\n",
    "random_unused_port"
   ]
  },
  {
   "cell_type": "markdown",
   "id": "dd25fdee",
   "metadata": {},
   "source": [
    "use ipv4 and a random port"
   ]
  },
  {
   "cell_type": "code",
   "execution_count": null,
   "id": "b51c168c",
   "metadata": {},
   "outputs": [],
   "source": [
    "%%bash\n",
    "NOTEBOOK_PORT=$(random_unused_port)\n",
    "echo \"using port $NOTEBOOK_PORT\"\n",
    "jupyter lab --no-browser --ip=\"127.0.0.1\" --port=$NOTEBOOK_PORT"
   ]
  },
  {
   "cell_type": "code",
   "execution_count": null,
   "id": "c9f12d34",
   "metadata": {},
   "outputs": [],
   "source": [
    "# on your local machine connect using\n",
    "NOTEBOOK_PORT=\"replace_with_value_from_above\"\n",
    "ssh -4 -L 127.0.0.1:${NOTEBOOK_PORT}:127.0.0.1:${NOTEBOOK_PORT} my_user@spider.surf.nl -N"
   ]
  }
 ],
 "metadata": {
  "jupytext": {
   "cell_metadata_filter": "-all",
   "main_language": "python",
   "notebook_metadata_filter": "-all"
  }
 },
 "nbformat": 4,
 "nbformat_minor": 5
}

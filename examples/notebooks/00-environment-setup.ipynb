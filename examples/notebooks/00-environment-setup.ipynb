{
 "cells": [
  {
   "cell_type": "markdown",
   "id": "b5296404",
   "metadata": {},
   "source": [
    "\n",
    "# Set up the the environment for using Picas\n",
    "\n",
    "## references\n",
    "- the official picas client repository: https://github.com/sara-nl/picasclient\n",
    "- the main couchdb database: https://picas.surfsara.nl:6984\n",
    "- the couchdb web ui login page: https://picas.grid.sara.nl:6984/_utils/#login\n",
    "- picas spider workflows: https://doc.spider.surfsara.nl/en/latest/Pages/workflows.html#picas\n",
    "- more documentation: https://doc.grid.surfsara.nl/en/latest/\n",
    "- change the picas couchdb password: https://doc.grid.surfsara.nl/en/latest/Pages/Practices/picas/picas_change_password.html\n",
    "\n",
    "## Minimum requirements (for local usage on your machine)\n",
    "It is assumed that you are running a linux like operating system where git and python3 are\n",
    "already available. The following commands should be available in your terminal:\n",
    "- `git`\n",
    "- `python3`\n",
    "- `pip3`\n",
    "- `curl`\n",
    "\n",
    ".. todo:: will the tutorial be given on spider? (yes, spider)\n",
    "     - publish the rendered notebooks (for the time being on github but then into the picas docs)\n",
    ".. todo:: create a module for \"module load picas\"\n",
    "     - look into doing that with eb\n",
    ".. todo:: add a section in the readme to bootstrap the environment for the tutorial or make this\n",
    "          a gist that can be also curled | sh\n",
    ".. todo:: explore the multi-cluster setup for picas (snellius, spider, src at the same time)\n",
    ".. todo:: add a subcommand to validate the credential by trying to connect to the database\n",
    "            $ picas-cli check"
   ]
  },
  {
   "cell_type": "markdown",
   "id": "1c2862fb",
   "metadata": {
    "lines_to_next_cell": 0
   },
   "source": [
    "## Setup the workspace and obtain a copy of the picas client"
   ]
  },
  {
   "cell_type": "code",
   "execution_count": null,
   "id": "47c5927b",
   "metadata": {},
   "outputs": [],
   "source": [
    "! mkdir -p ~/workspaces/surf/picas"
   ]
  },
  {
   "cell_type": "code",
   "execution_count": null,
   "id": "6aed23b8",
   "metadata": {},
   "outputs": [],
   "source": [
    "%cd ~/workspaces/surf/picas"
   ]
  },
  {
   "cell_type": "markdown",
   "id": "213d960a",
   "metadata": {
    "lines_to_next_cell": 0
   },
   "source": [
    "## Clone the picas client repository"
   ]
  },
  {
   "cell_type": "code",
   "execution_count": null,
   "id": "52cd30ed",
   "metadata": {},
   "outputs": [],
   "source": [
    "! pwd\n",
    "! git clone https://github.com/sara-nl/picasclient.git\n",
    "! ls -l picasclient"
   ]
  },
  {
   "cell_type": "code",
   "execution_count": null,
   "id": "c69e15b2",
   "metadata": {},
   "outputs": [],
   "source": [
    "%cd picasclient\n",
    "! git checkout 1.0.1"
   ]
  },
  {
   "cell_type": "code",
   "execution_count": null,
   "id": "34b4582a",
   "metadata": {},
   "outputs": [],
   "source": [
    "! git status\n",
    "! ls"
   ]
  },
  {
   "cell_type": "markdown",
   "id": "c5f435f3",
   "metadata": {
    "lines_to_next_cell": 0
   },
   "source": [
    "## Create the virtual environment"
   ]
  },
  {
   "cell_type": "code",
   "execution_count": null,
   "id": "adfa9178",
   "metadata": {},
   "outputs": [],
   "source": [
    "! mkdir .venv\n",
    "! python3 -m venv .venv/picas-tutorial"
   ]
  },
  {
   "cell_type": "markdown",
   "id": "d42ef015",
   "metadata": {
    "lines_to_next_cell": 0
   },
   "source": [
    "## Install the dependencies"
   ]
  },
  {
   "cell_type": "code",
   "execution_count": null,
   "id": "57e0969b",
   "metadata": {
    "lines_to_next_cell": 0
   },
   "outputs": [],
   "source": [
    "! .venv/picas-tutorial/bin/python3 -m pip install --upgrade pip\n",
    "! .venv/picas-tutorial/bin/python3 -m pip install poetry"
   ]
  },
  {
   "cell_type": "code",
   "execution_count": null,
   "id": "35ecc713",
   "metadata": {
    "lines_to_next_cell": 0
   },
   "outputs": [],
   "source": [
    "! .venv/picas-tutorial/bin/python3 -m poetry lock"
   ]
  },
  {
   "cell_type": "code",
   "execution_count": null,
   "id": "0826a4cd",
   "metadata": {},
   "outputs": [],
   "source": [
    "! .venv/picas-tutorial/bin/python3 -m poetry install"
   ]
  },
  {
   "cell_type": "markdown",
   "id": "98b53b8f",
   "metadata": {},
   "source": [
    "## Run the notebook in the new virtual environment\n",
    "exit the current notebook kernel and start a new one in the virtual environment"
   ]
  }
 ],
 "metadata": {
  "jupytext": {
   "cell_metadata_filter": "-all",
   "main_language": "python",
   "notebook_metadata_filter": "-all"
  }
 },
 "nbformat": 4,
 "nbformat_minor": 5
}

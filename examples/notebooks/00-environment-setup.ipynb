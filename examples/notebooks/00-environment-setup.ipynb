{
 "cells": [
  {
   "cell_type": "markdown",
   "id": "794f921d",
   "metadata": {},
   "source": [
    "\n",
    "# Set up the the environment for using Picas\n",
    "\n",
    "## references\n",
    "- the official picas client repository: https://github.com/sara-nl/picasclient\n",
    "- the main couchdb database: https://picas.surfsara.nl:6984\n",
    "- the couchdb web ui login page: https://picas.grid.sara.nl:6984/_utils/#login\n",
    "- picas spider workflows: https://doc.spider.surfsara.nl/en/latest/Pages/workflows.html#picas\n",
    "- more documentation: https://doc.grid.surfsara.nl/en/latest/\n",
    "- change the picas couchdb password: https://doc.grid.surfsara.nl/en/latest/Pages/Practices/picas/picas_change_password.html\n",
    "\n",
    "## Minimum requirements (for local usage on your machine)\n",
    "It is assumed that you are running a linux like operating system where git and python3 are\n",
    "already available. The following commands should be available in your terminal:\n",
    "- `git`\n",
    "- `python3`\n",
    "- `pip3`\n",
    "- `curl`\n",
    "\n",
    ".. todo:: will the tutorial be given on spider? (yes, spider)\n",
    "     - publish the rendered notebooks (for the time being on github but then into the picas docs)\n",
    ".. todo:: create a module for \"module load picas\"\n",
    "     - look into doing that with eb\n",
    ".. todo:: add a section in the readme to bootstrap the environment for the tutorial or make this\n",
    "          a gist that can be also curled | sh\n",
    ".. todo:: explore the multi-cluster setup for picas (snellius, spider, src at the same time)\n",
    ".. todo:: add a subcommand to validate the credential by trying to connect to the database\n",
    "            $ picas-cli check"
   ]
  },
  {
   "cell_type": "markdown",
   "id": "dc026751",
   "metadata": {
    "lines_to_next_cell": 0
   },
   "source": [
    "## Setup the workspace and obtain a copy of the picas client"
   ]
  },
  {
   "cell_type": "code",
   "execution_count": null,
   "id": "1fe378fa",
   "metadata": {},
   "outputs": [],
   "source": [
    "# .. todo:: for the final version use ~/pics_tutorial\n",
    "! mkdir -p ~/workspaces/surf/picas"
   ]
  },
  {
   "cell_type": "code",
   "execution_count": null,
   "id": "9dddab31",
   "metadata": {},
   "outputs": [],
   "source": [
    "%cd ~/workspaces/surf/picas\n",
    "! ls"
   ]
  },
  {
   "cell_type": "markdown",
   "id": "5b86617a",
   "metadata": {
    "lines_to_next_cell": 0
   },
   "source": [
    "## Clone the picas client repository"
   ]
  },
  {
   "cell_type": "code",
   "execution_count": null,
   "id": "0f474f1b",
   "metadata": {},
   "outputs": [],
   "source": [
    "! git clone https://github.com/sara-nl/picasclient.git\n",
    "! ls -l picasclient"
   ]
  },
  {
   "cell_type": "code",
   "execution_count": null,
   "id": "c6c44bda",
   "metadata": {},
   "outputs": [],
   "source": [
    "%cd picasclient\n",
    "! git checkout 1.0.1"
   ]
  },
  {
   "cell_type": "code",
   "execution_count": null,
   "id": "66041b21",
   "metadata": {},
   "outputs": [],
   "source": [
    "! git status\n",
    "! ls"
   ]
  },
  {
   "cell_type": "markdown",
   "id": "4643799e",
   "metadata": {
    "lines_to_next_cell": 0
   },
   "source": [
    "## Create the virtual environment"
   ]
  },
  {
   "cell_type": "code",
   "execution_count": null,
   "id": "81a00026",
   "metadata": {},
   "outputs": [],
   "source": [
    "! mkdir .venv\n",
    "! python3 -m venv .venv/picas-tutorial"
   ]
  },
  {
   "cell_type": "markdown",
   "id": "3e7b324a",
   "metadata": {
    "lines_to_next_cell": 0
   },
   "source": [
    "## Install the dependencies"
   ]
  },
  {
   "cell_type": "code",
   "execution_count": null,
   "id": "e3499056",
   "metadata": {
    "lines_to_next_cell": 0
   },
   "outputs": [],
   "source": [
    "! .venv/picas-tutorial/bin/python3 -m pip install --upgrade pip\n",
    "! .venv/picas-tutorial/bin/python3 -m pip install poetry"
   ]
  },
  {
   "cell_type": "code",
   "execution_count": null,
   "id": "a5acd124",
   "metadata": {
    "lines_to_next_cell": 0
   },
   "outputs": [],
   "source": [
    "! .venv/picas-tutorial/bin/python3 -m poetry lock"
   ]
  },
  {
   "cell_type": "code",
   "execution_count": null,
   "id": "b784b5e2",
   "metadata": {},
   "outputs": [],
   "source": [
    "! .venv/picas-tutorial/bin/python3 -m poetry install"
   ]
  },
  {
   "cell_type": "markdown",
   "id": "2cf94735",
   "metadata": {},
   "source": [
    "## Run the notebook in the new virtual environment\n",
    "exit the current notebook kernel and start a new one in the virtual environment\n",
    "\n",
    ".. todo:: add instructions and tips on how to run the notebook / jupyterlab on snellius or spider\n",
    "          e.g use surf's jupyterhub or run a jupyter server on spider and connect to it\n",
    "          or OOD"
   ]
  }
 ],
 "metadata": {
  "jupytext": {
   "cell_metadata_filter": "-all",
   "main_language": "python",
   "notebook_metadata_filter": "-all"
  }
 },
 "nbformat": 4,
 "nbformat_minor": 5
}

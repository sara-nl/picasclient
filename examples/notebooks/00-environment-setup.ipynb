{
 "cells": [
  {
   "cell_type": "markdown",
   "id": "cdf51939",
   "metadata": {},
   "source": [
    "\n",
    "# Set up the the environment for using Picas\n",
    "\n",
    "## references\n",
    "- the official picas client repository: https://github.com/sara-nl/picasclient\n",
    "- the main couchdb database: https://picas.surfsara.nl:6984\n",
    "- the couchdb web ui login page: https://picas.grid.sara.nl:6984/_utils/#login\n",
    "- picas spider workflows: https://doc.spider.surfsara.nl/en/latest/Pages/workflows.html#picas\n",
    "- more documentation: https://doc.grid.surfsara.nl/en/latest/\n",
    "- change the picas couchdb password: https://doc.grid.surfsara.nl/en/latest/Pages/Practices/picas/picas_change_password.html\n",
    "\n",
    "## Minimum requirements (for local usage on your machine)\n",
    "It is assumed that you are running a linux like operating system where git and python3 are\n",
    "already available. The following commands should be available in your terminal:\n",
    "- `git`\n",
    "- `python3`\n",
    "- `pip3`\n",
    "- `curl`\n",
    "\n",
    ".. todo:: will the tutorial be given on spider? (yes, spider)\n",
    "     - publish the rendered notebooks (for the time being on github but then into the picas docs)\n",
    ".. todo:: create a module for \"module load picas\"\n",
    "     - look into doing that with eb\n",
    ".. todo:: add a section in the readme to bootstrap the environment for the tutorial or make this\n",
    "          a gist that can be also curled | sh\n",
    ".. todo:: explore the multi-cluster setup for picas (snellius, spider, src at the same time)\n",
    ".. todo:: add a subcommand to validate the credential by trying to connect to the database\n",
    "            $ picas-cli check"
   ]
  },
  {
   "cell_type": "markdown",
   "id": "bf14789c",
   "metadata": {
    "lines_to_next_cell": 0
   },
   "source": [
    "## Setup the workspace and obtain a copy of the picas client"
   ]
  },
  {
   "cell_type": "code",
   "execution_count": null,
   "id": "3f595111",
   "metadata": {},
   "outputs": [],
   "source": [
    "# .. todo:: for the final version use ~/pics_tutorial\n",
    "! mkdir -p ~/picas"
   ]
  },
  {
   "cell_type": "code",
   "execution_count": null,
   "id": "1b193ff8",
   "metadata": {},
   "outputs": [],
   "source": [
    "%cd ~/picas\n",
    "! ls"
   ]
  },
  {
   "cell_type": "markdown",
   "id": "b728e85f",
   "metadata": {
    "lines_to_next_cell": 0
   },
   "source": [
    "## Clone the picas client repository"
   ]
  },
  {
   "cell_type": "code",
   "execution_count": null,
   "id": "0e3dc2a5",
   "metadata": {},
   "outputs": [],
   "source": [
    "! git clone https://github.com/sara-nl/picasclient.git\n",
    "! ls -l picasclient"
   ]
  },
  {
   "cell_type": "code",
   "execution_count": null,
   "id": "d2480766",
   "metadata": {},
   "outputs": [],
   "source": [
    "%cd picasclient\n",
    "! git checkout 1.0.1"
   ]
  },
  {
   "cell_type": "code",
   "execution_count": null,
   "id": "43e57e9e",
   "metadata": {},
   "outputs": [],
   "source": [
    "! git status\n",
    "! ls"
   ]
  },
  {
   "cell_type": "markdown",
   "id": "5bb1e1ac",
   "metadata": {},
   "source": [
    "## Setup virtual environemnt on clusters at SURF\n",
    "\n",
    "### Spider"
   ]
  },
  {
   "cell_type": "code",
   "execution_count": null,
   "id": "81e5d0fa",
   "metadata": {},
   "outputs": [],
   "source": [
    "! source /cvmfs/software.eessi.io/versions/2023.06/init/bash\n",
    "! module load Python/3.11.3-GCCcore-12.3.0"
   ]
  },
  {
   "cell_type": "markdown",
   "id": "795a37a4",
   "metadata": {},
   "source": [
    "### Snellius"
   ]
  },
  {
   "cell_type": "code",
   "execution_count": null,
   "id": "078de0ad",
   "metadata": {
    "lines_to_next_cell": 2
   },
   "outputs": [],
   "source": [
    "! module load 2024\n",
    "! module load Python/3.12.3-GCCcore-13.3.0"
   ]
  },
  {
   "cell_type": "markdown",
   "id": "38a5d008",
   "metadata": {
    "lines_to_next_cell": 0
   },
   "source": [
    "## Create the virtual environment"
   ]
  },
  {
   "cell_type": "code",
   "execution_count": null,
   "id": "7438f574",
   "metadata": {},
   "outputs": [],
   "source": [
    "! mkdir .venv\n",
    "! python3 -m venv .venv/picas-tutorial"
   ]
  },
  {
   "cell_type": "markdown",
   "id": "5b9ac51a",
   "metadata": {},
   "source": [
    "## Connect / execute example notebooks on the clusters\n",
    "https://doc.spider.surfsara.nl/en/latest/Pages/jupyter_notebooks.html"
   ]
  },
  {
   "cell_type": "markdown",
   "id": "424e7e11",
   "metadata": {
    "lines_to_next_cell": 0
   },
   "source": [
    "## Activate the environment and install picas using pip"
   ]
  },
  {
   "cell_type": "code",
   "execution_count": null,
   "id": "aeee53b5",
   "metadata": {},
   "outputs": [],
   "source": [
    "! .venv/picas-tutorial/bin/python3 -m pip install --upgrade pip\n",
    "! pip install --user picas"
   ]
  },
  {
   "cell_type": "markdown",
   "id": "e8c197af",
   "metadata": {
    "lines_to_next_cell": 0
   },
   "source": [
    "## Install the dependencies (advanced / latest version)"
   ]
  },
  {
   "cell_type": "code",
   "execution_count": null,
   "id": "a7e52dc5",
   "metadata": {
    "lines_to_next_cell": 0
   },
   "outputs": [],
   "source": [
    "! .venv/picas-tutorial/bin/python3 -m pip install --upgrade pip\n",
    "! .venv/picas-tutorial/bin/python3 -m pip install poetry"
   ]
  },
  {
   "cell_type": "code",
   "execution_count": null,
   "id": "c761c8f8",
   "metadata": {
    "lines_to_next_cell": 0
   },
   "outputs": [],
   "source": [
    "! .venv/picas-tutorial/bin/python3 -m poetry lock"
   ]
  },
  {
   "cell_type": "code",
   "execution_count": null,
   "id": "cff2327a",
   "metadata": {},
   "outputs": [],
   "source": [
    "! .venv/picas-tutorial/bin/python3 -m poetry install"
   ]
  },
  {
   "cell_type": "markdown",
   "id": "148f836b",
   "metadata": {},
   "source": [
    "## Run the notebook in the new virtual environment\n",
    "exit the current notebook kernel and start a new one in the virtual environment\n",
    "\n",
    ".. todo:: add instructions and tips on how to run the notebook / jupyterlab on snellius or spider\n",
    "          e.g use surf's jupyterhub or run a jupyter server on spider and connect to it\n",
    "          or OOD"
   ]
  }
 ],
 "metadata": {
  "jupytext": {
   "cell_metadata_filter": "-all",
   "main_language": "python",
   "notebook_metadata_filter": "-all"
  }
 },
 "nbformat": 4,
 "nbformat_minor": 5
}

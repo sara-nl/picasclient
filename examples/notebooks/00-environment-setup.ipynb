{
 "cells": [
  {
   "cell_type": "markdown",
   "id": "3764518c",
   "metadata": {},
   "source": [
    "\n",
    "# Set up the the environment for using Picas\n",
    "\n",
    "## references\n",
    "- the official picas client repository: https://github.com/sara-nl/picasclient\n",
    "- the main couchdb database: https://picas.surfsara.nl:6984\n",
    "- the couchdb web ui login page: https://picas.grid.sara.nl:6984/_utils/#login\n",
    "- picas spider workflows: https://doc.spider.surfsara.nl/en/latest/Pages/workflows.html#picas\n",
    "- more documentation: https://doc.grid.surfsara.nl/en/latest/\n",
    "- change the picas couchdb password: https://doc.grid.surfsara.nl/en/latest/Pages/Practices/picas/picas_change_password.html\n",
    "\n",
    "## Minimum requirements (for local usage on your machine)\n",
    "It is assumed that you are running a linux like operating system where git and python3 are\n",
    "already available. The following commands should be available in your terminal:\n",
    "- `git`\n",
    "- `python3`\n",
    "- `pip3`\n",
    "- `curl`"
   ]
  },
  {
   "cell_type": "markdown",
   "id": "23c09d3e",
   "metadata": {
    "lines_to_next_cell": 0
   },
   "source": [
    "## Setup the workspace and obtain a copy of the picas client"
   ]
  },
  {
   "cell_type": "code",
   "execution_count": null,
   "id": "4727792d",
   "metadata": {},
   "outputs": [],
   "source": [
    "! mkdir -p ~/picas_tutorial"
   ]
  },
  {
   "cell_type": "code",
   "execution_count": null,
   "id": "bb9eea49",
   "metadata": {},
   "outputs": [],
   "source": [
    "%cd ~/picas_tutorial"
   ]
  },
  {
   "cell_type": "markdown",
   "id": "661d99b0",
   "metadata": {
    "lines_to_next_cell": 0
   },
   "source": [
    "## Clone the picas client repository"
   ]
  },
  {
   "cell_type": "code",
   "execution_count": null,
   "id": "e20ee75e",
   "metadata": {},
   "outputs": [],
   "source": [
    "! git clone --branch 1.0.1 --depth 1 https://github.com/sara-nl/picasclient.git"
   ]
  },
  {
   "cell_type": "code",
   "execution_count": null,
   "id": "a92c4213",
   "metadata": {},
   "outputs": [],
   "source": [
    "# ensure that you are on the right branch\n",
    "! git status\n",
    "! ls"
   ]
  },
  {
   "cell_type": "markdown",
   "id": "deaac73e",
   "metadata": {},
   "source": [
    "## Setup virtual environment on clusters at SURF\n",
    "### [optional] if you are using your local machine you can skip this section\n",
    "\n",
    "### Spider"
   ]
  },
  {
   "cell_type": "code",
   "execution_count": null,
   "id": "858e72c2",
   "metadata": {},
   "outputs": [],
   "source": [
    "! source /cvmfs/software.eessi.io/versions/2023.06/init/bash\n",
    "! module load Python/3.11.3-GCCcore-12.3.0"
   ]
  },
  {
   "cell_type": "markdown",
   "id": "280f75dd",
   "metadata": {},
   "source": [
    "### Snellius"
   ]
  },
  {
   "cell_type": "code",
   "execution_count": null,
   "id": "3c95c5e1",
   "metadata": {
    "lines_to_next_cell": 2
   },
   "outputs": [],
   "source": [
    "! module load 2024\n",
    "! module load Python/3.12.3-GCCcore-13.3.0"
   ]
  },
  {
   "cell_type": "markdown",
   "id": "691f2422",
   "metadata": {
    "lines_to_next_cell": 0
   },
   "source": [
    "## Create the virtual environment and activate it"
   ]
  },
  {
   "cell_type": "code",
   "execution_count": null,
   "id": "b4b360c4",
   "metadata": {
    "lines_to_next_cell": 2
   },
   "outputs": [],
   "source": [
    "! mkdir .venv\n",
    "! python3 -m venv .venv/picas-tutorial\n",
    "! . .venv/picas-tutorial/bin/activate"
   ]
  },
  {
   "cell_type": "markdown",
   "id": "dd14a7a6",
   "metadata": {
    "lines_to_next_cell": 0
   },
   "source": [
    "## Activate the environment and install picas using pip"
   ]
  },
  {
   "cell_type": "code",
   "execution_count": null,
   "id": "4dab5bf2",
   "metadata": {},
   "outputs": [],
   "source": [
    "! python3 -m pip install --upgrade pip\n",
    "! pip install picas"
   ]
  },
  {
   "cell_type": "markdown",
   "id": "5f2f910b",
   "metadata": {
    "lines_to_next_cell": 0
   },
   "source": [
    "## [optional] Install PiCaS from the repo"
   ]
  },
  {
   "cell_type": "code",
   "execution_count": null,
   "id": "4605098b",
   "metadata": {
    "lines_to_next_cell": 0
   },
   "outputs": [],
   "source": [
    "! python3 -m pip install --upgrade pip\n",
    "! python3 -m pip install poetry"
   ]
  },
  {
   "cell_type": "code",
   "execution_count": null,
   "id": "7f8c92a0",
   "metadata": {
    "lines_to_next_cell": 0
   },
   "outputs": [],
   "source": [
    "! python3 -m poetry lock"
   ]
  },
  {
   "cell_type": "code",
   "execution_count": null,
   "id": "893e8e75",
   "metadata": {},
   "outputs": [],
   "source": [
    "! python3 -m poetry install"
   ]
  },
  {
   "cell_type": "markdown",
   "id": "2491868a",
   "metadata": {},
   "source": [
    "## Next tutorials\n",
    "The upcoming tutorials are based on the picasclient [README](https://github.com/sara-nl/picasclient/blob/mher/spd-512/course-material/README.md).\n",
    "\n",
    "The notebooks contain more details and explanations that can be be executed interactively."
   ]
  },
  {
   "cell_type": "markdown",
   "id": "4cee8d19",
   "metadata": {},
   "source": [
    "## Connect / execute example notebooks on the clusters\n",
    "https://doc.spider.surfsara.nl/en/latest/Pages/jupyter_notebooks.html\n",
    "\n",
    "### Run a jupyter notebook server\n",
    "Install the jupyterlab package in the virtual environment"
   ]
  },
  {
   "cell_type": "code",
   "execution_count": null,
   "id": "922023cb",
   "metadata": {},
   "outputs": [],
   "source": [
    "! python3 -m pip install jupyterlab"
   ]
  },
  {
   "cell_type": "markdown",
   "id": "98ba513f",
   "metadata": {},
   "source": [
    "run the jupyterlab server, this will work on all the platforms."
   ]
  },
  {
   "cell_type": "code",
   "execution_count": null,
   "id": "f41c4ad7",
   "metadata": {},
   "outputs": [],
   "source": [
    "! jupyter lab --no-browser --ip=\"127.0.0.1\""
   ]
  },
  {
   "cell_type": "markdown",
   "id": "96094876",
   "metadata": {},
   "source": [
    "the expected output should be something like:\n",
    "```bash\n",
    "(picas-tutorial) {EESSI 2023.06} [surfadvisors-mkazandjian@ui-02 picasclient]$ jupyter lab --no-browser --ip=\"127.0.0.1\"\n",
    "[I 2025-08-25 23:50:51.633 ServerApp] jupyter_lsp | extension was successfully linked.\n",
    "[I 2025-08-25 23:50:51.638 ServerApp] jupyter_server_terminals | extension was successfully linked.\n",
    "[I 2025-08-25 23:50:51.644 ServerApp] jupyterlab | extension was successfully linked.\n",
    "[I 2025-08-25 23:50:52.127 ServerApp] notebook_shim | extension was successfully linked.\n",
    "[I 2025-08-25 23:50:52.163 ServerApp] notebook_shim | extension was successfully loaded.\n",
    "[I 2025-08-25 23:50:52.165 ServerApp] jupyter_lsp | extension was successfully loaded.\n",
    "[I 2025-08-25 23:50:52.167 ServerApp] jupyter_server_terminals | extension was successfully loaded.\n",
    "[I 2025-08-25 23:50:52.170 LabApp] JupyterLab extension loaded from /home/surfadvisors-mkazandjian/picas_tutorial/picasclient/.venv/picas-tutorial/lib/python3.11/site-packages/jupyterlab\n",
    "[I 2025-08-25 23:50:52.170 LabApp] JupyterLab application directory is /home/surfadvisors-mkazandjian/picas_tutorial/picasclient/.venv/picas-tutorial/share/jupyter/lab\n",
    "[I 2025-08-25 23:50:52.171 LabApp] Extension Manager is 'pypi'.\n",
    "[I 2025-08-25 23:50:52.210 ServerApp] jupyterlab | extension was successfully loaded.\n",
    "[I 2025-08-25 23:50:52.210 ServerApp] Serving notebooks from local directory: /home/surfadvisors-mkazandjian/picas_tutorial/picasclient\n",
    "[I 2025-08-25 23:50:52.211 ServerApp] Jupyter Server 2.17.0 is running at:\n",
    "[I 2025-08-25 23:50:52.211 ServerApp] http://127.0.0.1:8888/lab?token=a9c930fe6c2d5e61845a543affac02dac7d050aeaa76a1f9\n",
    "[I 2025-08-25 23:50:52.211 ServerApp] Use Control-C to stop this server and shut down all kernels (twice to skip confirmation).\n",
    "[C 2025-08-25 23:50:52.215 ServerApp]\n",
    "\n",
    "    To access the server, open this file in a browser:\n",
    "        file:///home/surfadvisors-mkazandjian/.local/share/jupyter/runtime/jpserver-1162549-open.html\n",
    "    Or copy and paste one of these URLs:\n",
    "        http://127.0.0.1:8888/lab?token=a9c930fe6c2d5e61845a543affac02dac7d050aeaa76a1f9\n",
    "````"
   ]
  },
  {
   "cell_type": "markdown",
   "id": "c53255f1",
   "metadata": {
    "lines_to_next_cell": 0
   },
   "source": [
    "[optional]\n",
    "If you are running on a cluster you can not open the url directly in your browser.\n",
    "You can now connect to the jupyterlab server using an ssh tunnel using the command below:\n",
    "\n",
    "pick a random port on your local machine, e.g. 8888 (see below for a bash function that\n",
    "gives you a random port)"
   ]
  },
  {
   "cell_type": "code",
   "execution_count": null,
   "id": "fbfb0126",
   "metadata": {},
   "outputs": [],
   "source": [
    "! ssh -L 127.0.0.1:8888:127.0.0.1:8888 my_user@spider.surf.nl -N"
   ]
  },
  {
   "cell_type": "markdown",
   "id": "6c6a6597",
   "metadata": {},
   "source": [
    "open your browser and go to the url: http://localhost:8888"
   ]
  },
  {
   "cell_type": "markdown",
   "id": "bc62f910",
   "metadata": {},
   "source": [
    "[optional]\n",
    "If you want to find a random port on your local machine you can use the following bash"
   ]
  },
  {
   "cell_type": "code",
   "execution_count": null,
   "id": "04709405",
   "metadata": {},
   "outputs": [],
   "source": [
    "%%bash\n",
    "random_unused_port ()\n",
    "{\n",
    "    ( netstat --listening --all --tcp --numeric | sed '1,2d; s/[^[:space:]]*[[:space:]]*[^[:space:]]*[[:space:]]*[^[:space:]]*[[:space:]]*[^[:space:]]*:\\([0-9]*\\)[[:space:]]*.*/\\1/g' | sort -n | uniq;\n",
    "    seq 1 1000;\n",
    "    seq 1 65535 ) | sort -n | uniq -u | shuf -n 1\n",
    "}\n",
    "\n",
    "random_unused_port"
   ]
  }
 ],
 "metadata": {
  "jupytext": {
   "cell_metadata_filter": "-all",
   "main_language": "python",
   "notebook_metadata_filter": "-all"
  }
 },
 "nbformat": 4,
 "nbformat_minor": 5
}

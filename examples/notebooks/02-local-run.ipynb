{
 "cells": [
  {
   "cell_type": "markdown",
   "id": "d7a93227",
   "metadata": {},
   "source": [
    "\n",
    "# Use PiCaS to run local tasks\n",
    "\n",
    "## Outline\n",
    "- Ensure the environment is set up correctly.\n",
    "- Set up a simple problem\n",
    "- Create tokens and push them to the database\n",
    "- Run the tasks locally using PiCaS by pulling tokens from the database\n",
    "\n",
    "## references\n",
    "- the main couchdb database: https://picas.surfsara.nl:6984\n",
    "- the couchdb web ui login page: https://picas.grid.sara.nl:6984/_utils/#login\n",
    "- the couchdb database for your project: https://picas.grid.sara.nl:6984/_utils/#database/<my_project_db>/_all_docs\n",
    "- the push token example https://github.com/sara-nl/picasclient/blob/master/examples/pushTokens.py\n",
    "- the run local examples script https://github.com/sara-nl/picasclient/blob/master/examples/local_example.py\n",
    "\n",
    "## Minimum requirements\n",
    "- Make sure that the [00-environment-setup](https://github.com/sara-nl/picasclient/blob/mher/spd-512/course-material/examples/notebooks/00-environment-setup.ipynb) notebook has been executed and that the virtual\n",
    "- Make sure that the [01-database-setup](https://github.com/sara-nl/picasclient/blob/mher/spd-512/course-material/examples/notebooks/01-database-setup.ipynb) notebook has been executed and that the virtual"
   ]
  },
  {
   "cell_type": "code",
   "execution_count": null,
   "id": "e9dbaf79",
   "metadata": {},
   "outputs": [],
   "source": [
    "%cd ~/picas_tutorial"
   ]
  },
  {
   "cell_type": "code",
   "execution_count": null,
   "id": "6ef17876",
   "metadata": {},
   "outputs": [],
   "source": [
    "! ls"
   ]
  },
  {
   "cell_type": "markdown",
   "id": "d2ebdf15",
   "metadata": {},
   "source": [
    "## Hello world PiCaS example\n",
    "\n",
    "The simplest problem that can be run locally is to pass parameters (tokens) to a script and run it.\n",
    "This approach can be generalized to run on a cluster using slurm (or other schedulers) too.\n",
    "\n",
    "In this example tokens themselves are simple echo commands that will be passed to a runner script.\n",
    "\n",
    "The steps and components are:\n",
    "  - Define / examine the set of parameters (tokens) that first need to be pushed to the database, e.g [quickExamples.txt](https://github.com/sara-nl/picasclient/blob/master/examples/quickExample.txt)\n",
    "  - Push the tokens to the database ( e.g. [push_tokens.py](https://github.com/sara-nl/picasclient/blob/master/examples/pushTokens.py) )\n",
    "  - The script that runs a tasks (e.g. [process_task.sh](https://github.com/sara-nl/picasclient/blob/master/examples/process_task.sh)): just accepts the input parameters and print them in this tutorial\n",
    "  - The runner script that is executed locally ( [local_example.py](https://github.com/sara-nl/picasclient/blob/master/examples/local_example.py) ), it pulls the tokens from the database and runs the tasks for each token."
   ]
  },
  {
   "cell_type": "code",
   "execution_count": null,
   "id": "c23e2d86",
   "metadata": {},
   "outputs": [],
   "source": [
    "%cd picasclient/examples"
   ]
  },
  {
   "cell_type": "code",
   "execution_count": null,
   "id": "05a4ea20",
   "metadata": {},
   "outputs": [],
   "source": [
    "! ls -l"
   ]
  },
  {
   "cell_type": "markdown",
   "id": "b582b9ef",
   "metadata": {},
   "source": [
    "### Create the tokens\n",
    "The file quickExample.txt contains three lines with commands to be executed. You can generate three job tokens in the PiCaS DB by running"
   ]
  },
  {
   "cell_type": "code",
   "execution_count": null,
   "id": "6c8783ff",
   "metadata": {},
   "outputs": [],
   "source": [
    "! cat quickExample.txt"
   ]
  },
  {
   "cell_type": "markdown",
   "id": "73025d27",
   "metadata": {},
   "source": [
    "push the tokens to the database using the push_tokens.py script"
   ]
  },
  {
   "cell_type": "code",
   "execution_count": null,
   "id": "b8fae8c5",
   "metadata": {},
   "outputs": [],
   "source": [
    "! python3 push_tokens.py quick"
   ]
  },
  {
   "cell_type": "markdown",
   "id": "fdc26d84",
   "metadata": {},
   "source": [
    "Check the DB; you should see the tokens in the view [Monitor/todo](https://picas.grid.sara.nl:6984/_utils/#/database/mherawesomedb/_design/Monitor/_view/todo)"
   ]
  },
  {
   "cell_type": "markdown",
   "id": "416b34f1",
   "metadata": {},
   "source": [
    "### Create the tokens\n",
    "The file quickExample.txt contains three lines with commands to be executed. You can generate three job tokens in the PiCaS DB by running\n",
    "The script accepts the tokens as input command line parameters.\n",
    "The following is done in the script:\n",
    " - display the node name and date\n",
    " - initialize the job arguments and echo them (for verbosity)\n",
    " - for the sake of demonstration, run the input command as a bash command\n",
    " - wrap up the job by displaying the end date and exit code"
   ]
  },
  {
   "cell_type": "markdown",
   "id": "7e9794c4",
   "metadata": {},
   "source": [
    "### Running the tasks locally\n",
    "To run the example locally (e.g. on your laptop)"
   ]
  },
  {
   "cell_type": "code",
   "execution_count": null,
   "id": "b2e41c38",
   "metadata": {},
   "outputs": [],
   "source": [
    "! python local_example.py"
   ]
  },
  {
   "cell_type": "markdown",
   "id": "3749ff4d",
   "metadata": {},
   "source": [
    "If all goes well, you should see output like (compare with what you see in the cell above)\n",
    "\n",
    "```bash\n",
    "-----------------------\n",
    "Working on token: token_0\n",
    "_id token_0\n",
    "_rev 4-8b04da64c0a536bb88a3cdebe12e0a87\n",
    "type token\n",
    "lock 1692692693\n",
    "done 0\n",
    "hostname xxxxxxxxxxxx\n",
    "scrub_count 0\n",
    "input echo \"this is token A\"\n",
    "exit_code 0\n",
    "-----------------------\n",
    "```\n",
    "The token in the database will have attachments with the standard and error output of the terminal. There you will find the outputfile logs_token_0.out, containing the output of the input command:\n",
    "\n",
    "```bash\n",
    "Tue 31 Dec 2024 00:00:00 CET\n",
    "xxxxxxxxxxxx\n",
    "echo 'this is token A'\n",
    "token_0\n",
    "output_token_0\n",
    "this is token A\n",
    "Tue 31 Dec 2024 00:00:00  CET\n",
    "```\n",
    "Once the script is running, it will start polling the PiCaS server for work. A pilot job will not die after it has completed a task, but immediately ask for another one. It will keep asking for new jobs, until all work is done, or the maximum time is up.\n",
    "\n",
    "Tokens have a status, which will go from \"todo\" to \"done\" once the work has been completed (or \"error\" if the work fails). To do more work, you will have to add new tokens that in the \"todo\" state yet, otherwise the example script will just stop after finding no more work to do. If you are interested, you can look into the scripts examples/local-example.py and examples/process_task.sh to check what the actual work is."
   ]
  },
  {
   "cell_type": "markdown",
   "id": "25761742",
   "metadata": {},
   "source": [
    "## Deep-dive into the example and code explanation\n",
    "## CONTINUE FROM HERE\n",
    "### Define the bunch of parameters for the tasks.\n",
    "In the file below, each line is one parameter of the task. This file will be processed by the\n",
    "push tokens script and the content of the file will be translated into tokens to be consumed\n",
    "later on by the main run script that pulls the tokens and dispatches them as tasks in the pilot\n",
    "allocated resources."
   ]
  },
  {
   "cell_type": "markdown",
   "id": "83b958c2",
   "metadata": {},
   "source": [
    "This file defined the parameters for the tasks (the tokens).\n",
    "in this case the tokens are simple echo commands that will be passed by PiCaS\n",
    "to the runner of the tasks (see the \"local_example\" below, the process_task method)"
   ]
  },
  {
   "cell_type": "code",
   "execution_count": null,
   "id": "be1e42c1",
   "metadata": {
    "lines_to_next_cell": 2
   },
   "outputs": [],
   "source": [
    "%%writefile example_02/quickExample.txt\n",
    "echo 'this is token A'\n",
    "echo 'this is token B'\n",
    "echo 'this is token C'"
   ]
  },
  {
   "cell_type": "markdown",
   "id": "b3b59ace",
   "metadata": {},
   "source": [
    "The push tokens script"
   ]
  },
  {
   "cell_type": "code",
   "execution_count": null,
   "id": "caec0c08",
   "metadata": {},
   "outputs": [],
   "source": [
    "%%writefile example_02/push_tokens.py\n",
    "\n",
    "import picasconfig\n",
    "from picas.clients import CouchDB\n",
    "from picas.documents import Task\n",
    "\n",
    "def create_tokens(fields: dict) -> list:\n",
    "    \"\"\"\n",
    "    Create the tokens as a list of Task documents.\n",
    "\n",
    "    The fields parameter is a dictionary where keys are field names and values are\n",
    "    lists of input values. For every 'input' value a unique id is assigned and the\n",
    "    corresponding input value is used to create a token.\n",
    "\n",
    "    For example, the following becomes a list of tokens:\n",
    "     {'input': [\n",
    "        \"echo 'this is token A'\",\n",
    "        \"echo 'this is token B'\",\n",
    "        \"echo 'this is token C'\"]\n",
    "     }\n",
    "\n",
    "\n",
    "    :param fields: A dictionary where keys are field names and values are lists of input values.\n",
    "    :return: A list of Task documents representing the tokens. For the example above,\n",
    "      it would return a list of three Task objects with .id attributes set to\n",
    "      'token_0', 'token_1', and 'token_2' respectively and .input attributes of each set to\n",
    "      \"echo 'this is token A'\", \"echo 'this is token B'\", and \"echo 'this is token C'\".\n",
    "    \"\"\"\n",
    "    tokens = []\n",
    "    n_docs = db.doc_count()\n",
    "    for arg in fields:\n",
    "        for line in fields[arg]:\n",
    "            token = {\n",
    "                '_id': 'token_' + str(n_docs),\n",
    "                'type': 'token',\n",
    "                arg: line,\n",
    "            }\n",
    "            tokens.append(Task(token))\n",
    "            n_docs += 1\n",
    "\n",
    "    return tokens\n",
    "\n",
    "# create a connection to the server\n",
    "db = CouchDB(\n",
    "    url=picasconfig.PICAS_HOST_URL,\n",
    "    db=picasconfig.PICAS_DATABASE,\n",
    "    username=picasconfig.PICAS_USERNAME,\n",
    "    password=picasconfig.PICAS_PASSWORD)\n",
    "\n",
    "# create tokens with inputs given in file\n",
    "tokensfile = \"quickExample.txt\"\n",
    "with open(tokensfile) as fobj:\n",
    "    fields = {\"input\": fobj.read().splitlines()}\n",
    "tokens = create_tokens(fields)\n",
    "\n",
    "# save tokens in database\n",
    "db.save_documents(tokens)"
   ]
  },
  {
   "cell_type": "code",
   "execution_count": null,
   "id": "54a9cded",
   "metadata": {},
   "outputs": [],
   "source": [
    "%cd example_02"
   ]
  },
  {
   "cell_type": "code",
   "execution_count": null,
   "id": "7af6404c",
   "metadata": {
    "lines_to_next_cell": 0
   },
   "outputs": [],
   "source": [
    "!ls -l"
   ]
  },
  {
   "cell_type": "code",
   "execution_count": null,
   "id": "6a539deb",
   "metadata": {
    "lines_to_next_cell": 1
   },
   "outputs": [],
   "source": [
    "import picasconfig\n",
    "from picas.clients import CouchDB\n",
    "from picas.documents import Task\n",
    "\n",
    "def create_tokens(fields: dict) -> list:\n",
    "    \"\"\"\n",
    "    Create a list of Tasks from the tokens.\n",
    "\n",
    "    The fields parameter is a dictionary where keys are field names and values are\n",
    "    lists of input values. For every 'input' value a unique id is assigned and the\n",
    "    corresponding input value is used to create a token.\n",
    "\n",
    "    For example, the following becomes a list of tokens:\n",
    "     {'input': [\n",
    "        \"echo 'this is token A'\",\n",
    "        \"echo 'this is token B'\",\n",
    "        \"echo 'this is token C'\"]\n",
    "     }\n",
    "\n",
    "\n",
    "    :param fields: A dictionary where keys are field names and values are lists of input values.\n",
    "    :return: A list of Task documents representing the tokens. For the example above,\n",
    "      it would return a list of three Task objects with .id attributes set to\n",
    "      'token_0', 'token_1', and 'token_2' respectively and .input attributes of each set to\n",
    "      \"echo 'this is token A'\", \"echo 'this is token B'\", and \"echo 'this is token C'\".\n",
    "    \"\"\"\n",
    "    tokens = []\n",
    "    n_docs = db.doc_count()\n",
    "    for arg in fields:\n",
    "        for line in fields[arg]:\n",
    "            token = {\n",
    "                '_id': 'token_' + str(n_docs),\n",
    "                'type': 'token',\n",
    "                arg: line,\n",
    "            }\n",
    "            tokens.append(Task(token))\n",
    "            n_docs += 1\n",
    "\n",
    "    return tokens"
   ]
  },
  {
   "cell_type": "code",
   "execution_count": null,
   "id": "9737c6d8",
   "metadata": {},
   "outputs": [],
   "source": [
    "# create a connection to the server\n",
    "db = CouchDB(\n",
    "    url=picasconfig.PICAS_HOST_URL,\n",
    "    db=picasconfig.PICAS_DATABASE,\n",
    "    username=picasconfig.PICAS_USERNAME,\n",
    "    password=picasconfig.PICAS_PASSWORD)\n",
    "\n",
    "# create tokens with inputs given in file\n",
    "tokensfile = \"quickExample.txt\"\n",
    "with open(tokensfile) as fobj:\n",
    "    fields = {\"input\": fobj.read().splitlines()}\n",
    "tokens = create_tokens(fields)\n",
    "\n",
    "# save tokens in database\n",
    "status = db.save_documents(tokens)\n",
    "\n",
    "# check for errors\n",
    "if not any(status):\n",
    "    print(\"Tokens saved successfully.\")"
   ]
  },
  {
   "cell_type": "markdown",
   "id": "a8cbb841",
   "metadata": {},
   "source": [
    "The picas local_example.py orchestrator script"
   ]
  },
  {
   "cell_type": "code",
   "execution_count": null,
   "id": "84383bf2",
   "metadata": {},
   "outputs": [],
   "source": [
    "%%writefile example_02/local_example.py\n",
    "\"\"\"\n",
    "usage: python local_example.py\n",
    "description:\n",
    "    Connect to PiCaS server\n",
    "    Get the next token in todo View\n",
    "    Fetch the token parameters, e.g. input value\n",
    "    Run main job (process_task.sh) with the input argument\n",
    "    When done, return the exit code to the token\n",
    "    Attach the logs to the token\n",
    "\"\"\"\n",
    "import argparse\n",
    "import logging\n",
    "import time\n",
    "import picasconfig\n",
    "\n",
    "from picas.actors import RunActor\n",
    "from picas.clients import CouchDB\n",
    "from picas.executers import execute\n",
    "from picas.modifiers import BasicTokenModifier\n",
    "from picas.util import Timer\n",
    "\n",
    "log = logging.getLogger(__name__)\n",
    "\n",
    "def arg_parser():\n",
    "    \"\"\"\n",
    "    Arguments parser for optional values of the example\n",
    "    returns: argparse object\n",
    "    \"\"\"\n",
    "    parser = argparse.ArgumentParser(description=\"Arguments used in the different classes in the example.\")\n",
    "    parser.add_argument(\"--design_doc\", default=\"Monitor\", type=str, help=\"Select the designdoc used by the actor class\")\n",
    "    parser.add_argument(\"--view\", default=\"todo\", type=str, help=\"Select the view used by the actor class\")\n",
    "    parser.add_argument(\"-v\", \"--verbose\", action=\"store_true\", help=\"Set verbose\")\n",
    "    return parser\n",
    "\n",
    "class ExampleActor(RunActor):\n",
    "    \"\"\"\n",
    "    The ExampleActor is the custom implementation of a RunActor that the user needs for the processing.\n",
    "    Feel free to adjust to whatever you need, a template can be found at: example-template.py\n",
    "    \"\"\"\n",
    "    def __init__(self, db, modifier, view=\"todo\", **viewargs):\n",
    "        super(ExampleActor, self).__init__(db, view=view, **viewargs)\n",
    "        self.timer = Timer()\n",
    "        # self.iterator = EndlessViewIterator(self.iterator)\n",
    "        self.modifier = modifier\n",
    "        self.client = db\n",
    "\n",
    "    def process_task(self, token):\n",
    "        # Print token information\n",
    "        print(\"-----------------------\")\n",
    "        print(\"Working on token: \" +token['_id'])\n",
    "        for key, value in token.doc.items():\n",
    "            print(key, value)\n",
    "        print(\"-----------------------\")\n",
    "\n",
    "        # Start running the main job, the logging is done internally and saved below\n",
    "        command = [\"/usr/bin/time\", \"./process_task.sh\", token['input'], token['_id']]\n",
    "        out = execute(command)\n",
    "\n",
    "        logsout = f\"logs_{token['_id']}.out\"\n",
    "        logserr = f\"logs_{token['_id']}.err\"\n",
    "\n",
    "        # write the logs\n",
    "        with open(logsout, 'w') as f:\n",
    "            f.write(out[2].decode('utf-8'))\n",
    "        with open(logserr, 'w') as f:\n",
    "            f.write(out[3].decode('utf-8'))\n",
    "\n",
    "        self.subprocess = out[0]\n",
    "\n",
    "        # Get the job exit code and done in the token\n",
    "        token['exit_code'] = out[1]\n",
    "        token = self.modifier.close(token)\n",
    "\n",
    "        # Attach logs in token\n",
    "        curdate = time.strftime(\"%d/%m/%Y_%H:%M:%S_\")\n",
    "        try:\n",
    "            log_handle = open(logsout, 'rb')\n",
    "            token.put_attachment(logsout, log_handle.read())\n",
    "\n",
    "            log_handle = open(logserr, 'rb')\n",
    "            token.put_attachment(logserr, log_handle.read())\n",
    "        except:\n",
    "            pass\n",
    "\n",
    "\n",
    "def main():\n",
    "    # parse user arguments\n",
    "    args = arg_parser().parse_args()\n",
    "\n",
    "    # setup connection to db\n",
    "    client = CouchDB(\n",
    "        url=picasconfig.PICAS_HOST_URL,\n",
    "        db=picasconfig.PICAS_DATABASE,\n",
    "        username=picasconfig.PICAS_USERNAME,\n",
    "        password=picasconfig.PICAS_PASSWORD)\n",
    "    print(\"Connected to the database %s sucessfully. Now starting work...\" %(picasconfig.PICAS_DATABASE))\n",
    "\n",
    "    # create the token modifier\n",
    "    modifier = BasicTokenModifier()\n",
    "\n",
    "    # create the actor\n",
    "    actor = ExampleActor(client, modifier, view=args.view, design_doc=args.design_doc)\n",
    "\n",
    "    # start the work!\n",
    "    actor.run(max_token_time=1800, max_total_time=3600, max_tasks=10, max_scrub=2)\n",
    "\n",
    "if __name__ == '__main__':\n",
    "    main()"
   ]
  },
  {
   "cell_type": "code",
   "execution_count": null,
   "id": "0ae1769c",
   "metadata": {
    "lines_to_next_cell": 1
   },
   "outputs": [],
   "source": [
    "import time\n",
    "import picasconfig\n",
    "\n",
    "from picas.actors import RunActor\n",
    "from picas.clients import CouchDB\n",
    "from picas.executers import execute\n",
    "from picas.modifiers import BasicTokenModifier\n",
    "from picas.util import Timer"
   ]
  },
  {
   "cell_type": "markdown",
   "id": "64b6c904",
   "metadata": {},
   "source": [
    "The goal is to pass the parameters (tokens) to the .sh script and run it.\n",
    "PiCaS is responsible and will take care of fetching the tokens.\n",
    "The user's responsibility is implement the \"process_task\" method that PiCaS will call"
   ]
  },
  {
   "cell_type": "markdown",
   "id": "ef0f5e91",
   "metadata": {},
   "source": [
    "To customize the processing, the user needs to implement the process_task method\n",
    "https://github.com/sara-nl/picasclient/blob/master/examples/example_template.py\n",
    "see actual example in the next cell"
   ]
  },
  {
   "cell_type": "code",
   "execution_count": null,
   "id": "789453e4",
   "metadata": {
    "lines_to_next_cell": 1
   },
   "outputs": [],
   "source": [
    "class ExampleActor(RunActor):\n",
    "    \"\"\"\n",
    "    The ExampleActor is the custom implementation of a RunActor that the user needs for the processing.\n",
    "    Feel free to adjust to whatever you need, a template can be found at: example-template.py\n",
    "    \"\"\"\n",
    "    def __init__(self, db, modifier, view=\"todo\", **viewargs):\n",
    "        super(ExampleActor, self).__init__(db, view=view, **viewargs)\n",
    "        self.timer = Timer()\n",
    "        self.modifier = modifier\n",
    "        self.client = db\n",
    "\n",
    "    def process_task(self, token):\n",
    "        # Print token information\n",
    "        print(\"-----------------------\")\n",
    "        print(\"Working on token: \" +token['_id'])\n",
    "        for key, value in token.doc.items():\n",
    "            print(key, value)\n",
    "        print(\"-----------------------\")\n",
    "\n",
    "        # Start running the main job, the logging is done internally and saved below\n",
    "        command = [\"/usr/bin/time\", \"./process_task.sh\", token['input'], token['_id']]\n",
    "        out = execute(command)\n",
    "\n",
    "        logsout = f\"logs_{token['_id']}.out\"\n",
    "        logserr = f\"logs_{token['_id']}.err\"\n",
    "\n",
    "        # write the logs\n",
    "        with open(logsout, 'w') as f:\n",
    "            f.write(out[2].decode('utf-8'))\n",
    "        with open(logserr, 'w') as f:\n",
    "            f.write(out[3].decode('utf-8'))\n",
    "\n",
    "        self.subprocess = out[0]\n",
    "\n",
    "        # Get the job exit code and done in the token\n",
    "        token['exit_code'] = out[1]\n",
    "        token = self.modifier.close(token)\n",
    "\n",
    "        # Attach logs in token\n",
    "        curdate = time.strftime(\"%d/%m/%Y_%H:%M:%S_\")\n",
    "        try:\n",
    "            log_handle = open(logsout, 'rb')\n",
    "            token.put_attachment(logsout, log_handle.read())\n",
    "\n",
    "            log_handle = open(logserr, 'rb')\n",
    "            token.put_attachment(logserr, log_handle.read())\n",
    "        except:\n",
    "            pass"
   ]
  },
  {
   "cell_type": "code",
   "execution_count": null,
   "id": "7df10369",
   "metadata": {},
   "outputs": [],
   "source": [
    "# setup connection to db (same as before)\n",
    "client = CouchDB(\n",
    "    url=picasconfig.PICAS_HOST_URL,\n",
    "    db=picasconfig.PICAS_DATABASE,\n",
    "    username=picasconfig.PICAS_USERNAME,\n",
    "    password=picasconfig.PICAS_PASSWORD)\n",
    "print(\"Connected to the database %s sucessfully. Now starting work...\" %(picasconfig.PICAS_DATABASE))"
   ]
  },
  {
   "cell_type": "code",
   "execution_count": null,
   "id": "5d79f401",
   "metadata": {},
   "outputs": [],
   "source": [
    "# create the token modifier\n",
    "modifier = BasicTokenModifier()\n",
    "\n",
    "# create the actor\n",
    "actor = ExampleActor(client, modifier, view='todo', design_doc='Monitor')"
   ]
  },
  {
   "cell_type": "code",
   "execution_count": null,
   "id": "bc2262d7",
   "metadata": {
    "lines_to_next_cell": 2
   },
   "outputs": [],
   "source": [
    "# start the work!\n",
    "actor.run(max_token_time=1800, max_total_time=3600, max_tasks=10, max_scrub=2)"
   ]
  },
  {
   "cell_type": "markdown",
   "id": "2126046a",
   "metadata": {},
   "source": [
    " - semi-advanced example 1\n",
    "  - add an example of a top level dir that has a bunch of subdirs, each subdir has a some raw data\n",
    "  - the directory tree is traversed and each subdir is processed as a token\n",
    "  - the task would return a word count of the files in the subdir\n",
    " - advanced example 1\n",
    "  - same as above, but the raw data is pulled from dcache\n",
    "- todo:"
   ]
  }
 ],
 "metadata": {
  "jupytext": {
   "cell_metadata_filter": "-all",
   "main_language": "python",
   "notebook_metadata_filter": "-all"
  }
 },
 "nbformat": 4,
 "nbformat_minor": 5
}

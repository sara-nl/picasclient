{
 "cells": [
  {
   "cell_type": "markdown",
   "id": "8d3bc3db",
   "metadata": {},
   "source": [
    "\n",
    "# Use PiCaS to run local tasks\n",
    "\n",
    "## Outline\n",
    "- Ensure the environment is set up correctly.\n",
    "- Set up a simple problem\n",
    "- Create tokens and push them to the database\n",
    "- Run the tasks locally using PiCaS by pulling tokens from the database\n",
    "\n",
    "## references\n",
    "- the main couchdb database: https://picas.surfsara.nl:6984\n",
    "- the couchdb web ui login page: https://picas.grid.sara.nl:6984/_utils/#login\n",
    "- the couchdb database for your project: https://picas.grid.sara.nl:6984/_utils/#database/<my_project_db>/_all_docs\n",
    "- the push token example https://github.com/sara-nl/picasclient/blob/master/examples/pushTokens.py\n",
    "- the run local examples script https://github.com/sara-nl/picasclient/blob/master/examples/local_example.py\n",
    "\n",
    "## Minimum requirements\n",
    "- Make sure that the [00-environment-setup](https://github.com/sara-nl/picasclient/blob/mher/spd-512/course-material/examples/notebooks/00-environment-setup.ipynb) notebook has been executed and that the virtual\n",
    "- Make sure that the [01-database-setup](https://github.com/sara-nl/picasclient/blob/mher/spd-512/course-material/examples/notebooks/01-database-setup.ipynb) notebook has been executed and that the virtual"
   ]
  },
  {
   "cell_type": "code",
   "execution_count": null,
   "id": "fe1c9ffd",
   "metadata": {},
   "outputs": [],
   "source": [
    "%cd ~/picas_tutorial"
   ]
  },
  {
   "cell_type": "code",
   "execution_count": null,
   "id": "50c41e56",
   "metadata": {},
   "outputs": [],
   "source": [
    "! ls"
   ]
  },
  {
   "cell_type": "markdown",
   "id": "3cdadcc7",
   "metadata": {},
   "source": [
    "## Hello world PiCaS example\n",
    "\n",
    "The simplest problem that can be run locally is to pass parameters (tokens) to a script and run it.\n",
    "This approach can be generalized to run on a cluster using slurm (or other schedulers) too.\n",
    "\n",
    "In this example tokens themselves are simple echo commands that will be passed to a runner script.\n",
    "\n",
    "The steps and components are:\n",
    "  - Define / examine the set of parameters (tokens) that first need to be pushed to the database, e.g [quickExamples.txt](https://github.com/sara-nl/picasclient/blob/master/examples/quickExample.txt)\n",
    "  - Push the tokens to the database ( e.g. [push_tokens.py](https://github.com/sara-nl/picasclient/blob/master/examples/pushTokens.py) )\n",
    "  - The script that runs a tasks (e.g. [process_task.sh](https://github.com/sara-nl/picasclient/blob/master/examples/process_task.sh)): just accepts the input parameters and print them in this tutorial\n",
    "  - The runner script that is executed locally ( [local_example.py](https://github.com/sara-nl/picasclient/blob/master/examples/local_example.py) ), it pulls the tokens from the database and runs the tasks for each token."
   ]
  },
  {
   "cell_type": "code",
   "execution_count": null,
   "id": "ec1cd0a3",
   "metadata": {},
   "outputs": [],
   "source": [
    "%cd picasclient/examples"
   ]
  },
  {
   "cell_type": "code",
   "execution_count": null,
   "id": "746d2b1e",
   "metadata": {},
   "outputs": [],
   "source": [
    "! ls -l"
   ]
  },
  {
   "cell_type": "markdown",
   "id": "9bd4759d",
   "metadata": {},
   "source": [
    "### Create the tokens\n",
    "The file quickExample.txt contains three lines with commands to be executed. You can generate three job tokens in the PiCaS DB by running"
   ]
  },
  {
   "cell_type": "code",
   "execution_count": null,
   "id": "97b8f629",
   "metadata": {},
   "outputs": [],
   "source": [
    "! cat quickExample.txt"
   ]
  },
  {
   "cell_type": "markdown",
   "id": "ed62c023",
   "metadata": {},
   "source": [
    "push the tokens to the database using the push_tokens.py script"
   ]
  },
  {
   "cell_type": "code",
   "execution_count": null,
   "id": "b74a9231",
   "metadata": {},
   "outputs": [],
   "source": [
    "! python3 push_tokens.py quick"
   ]
  },
  {
   "cell_type": "markdown",
   "id": "30f86e65",
   "metadata": {},
   "source": [
    "Check the DB; you should see three new tokens in the todo view [Monitor/todo](https://picas.grid.sara.nl:6984/_utils/#/database/mherawesomedb/_design/Monitor/_view/todo)"
   ]
  },
  {
   "cell_type": "markdown",
   "id": "f815ecf2",
   "metadata": {},
   "source": [
    "### Create the tokens\n",
    "The file quickExample.txt contains three lines with commands to be executed. You can generate three job tokens in the PiCaS DB by running\n",
    "The script accepts the tokens as input command line parameters.\n",
    "The following is done in the script:\n",
    " - display the node name and date\n",
    " - initialize the job arguments and echo them (for verbosity)\n",
    " - for the sake of demonstration, run the input command as a bash command\n",
    " - wrap up the job by displaying the end date and exit code"
   ]
  },
  {
   "cell_type": "markdown",
   "id": "a83246a0",
   "metadata": {},
   "source": [
    "### Running the tasks locally\n",
    "To run the example locally (e.g. on your laptop)"
   ]
  },
  {
   "cell_type": "code",
   "execution_count": null,
   "id": "9e3307d7",
   "metadata": {},
   "outputs": [],
   "source": [
    "! python local_example.py"
   ]
  },
  {
   "cell_type": "markdown",
   "id": "cbf7b978",
   "metadata": {},
   "source": [
    "If all goes well, you should see output like (compare with what you see in the cell above)\n",
    "\n",
    "```bash\n",
    "-----------------------\n",
    "Working on token: token_0\n",
    "_id token_0\n",
    "_rev 4-8b04da64c0a536bb88a3cdebe12e0a87\n",
    "type token\n",
    "lock 1692692693\n",
    "done 0\n",
    "hostname xxxxxxxxxxxx\n",
    "scrub_count 0\n",
    "input echo \"this is token A\"\n",
    "exit_code 0\n",
    "-----------------------\n",
    "```\n",
    "The token in the database will have attachments with the standard and error output of the terminal. There you will find the outputfile logs_token_0.out, containing the output of the input command:\n",
    "\n",
    "```bash\n",
    "Tue 31 Dec 2024 00:00:00 CET\n",
    "xxxxxxxxxxxx\n",
    "echo 'this is token A'\n",
    "token_0\n",
    "output_token_0\n",
    "this is token A\n",
    "Tue 31 Dec 2024 00:00:00  CET\n",
    "```\n",
    "Once the script is running, it will start polling the PiCaS server for work. A pilot job will not die after it has completed a task, but immediately ask for another one. It will keep asking for new jobs, until all work is done, or the maximum time is up.\n",
    "\n",
    "Tokens have a status, which will go from \"todo\" to \"done\" once the work has been completed (or \"error\" if the work fails). To do more work, you will have to add new tokens that in the \"todo\" state yet, otherwise the example script will just stop after finding no more work to do. If you are interested, you can look into the scripts examples/local-example.py and examples/process_task.sh to check what the actual work is."
   ]
  },
  {
   "cell_type": "markdown",
   "id": "897ecb79",
   "metadata": {},
   "source": [
    "## Deep-dive into the example and code explanation\n",
    "\n",
    "### Define the parameters that will be pushed the to database\n",
    "Fetch the PiCaS configuration and create a connection to the database"
   ]
  },
  {
   "cell_type": "code",
   "execution_count": null,
   "id": "f8da0bb5",
   "metadata": {
    "lines_to_next_cell": 0
   },
   "outputs": [],
   "source": [
    "# ---------------------------\n",
    "# DEVEL\n",
    "# ---------------------------"
   ]
  },
  {
   "cell_type": "code",
   "execution_count": null,
   "id": "1edfee7c",
   "metadata": {},
   "outputs": [],
   "source": [
    "%cd picas/picasclient/examples"
   ]
  },
  {
   "cell_type": "code",
   "execution_count": null,
   "id": "e59dfc70",
   "metadata": {},
   "outputs": [],
   "source": [
    "import sys\n",
    "sys.path = ['..']  + sys.path"
   ]
  },
  {
   "cell_type": "code",
   "execution_count": null,
   "id": "a3746628",
   "metadata": {
    "lines_to_next_cell": 0
   },
   "outputs": [],
   "source": [
    "import picas\n",
    "print(picas)"
   ]
  },
  {
   "cell_type": "code",
   "execution_count": null,
   "id": "9a9180f5",
   "metadata": {},
   "outputs": [],
   "source": [
    "# ---------------------------\n",
    "# END DEVEL\n",
    "# ---------------------------"
   ]
  },
  {
   "cell_type": "code",
   "execution_count": null,
   "id": "f71f9803",
   "metadata": {},
   "outputs": [],
   "source": [
    "from picas.picas_config import PicasConfig\n",
    "from picas.crypto import decrypt_password"
   ]
  },
  {
   "cell_type": "code",
   "execution_count": null,
   "id": "336cabf2",
   "metadata": {},
   "outputs": [],
   "source": [
    "config = PicasConfig(load=True)\n",
    "print(config)"
   ]
  },
  {
   "cell_type": "code",
   "execution_count": null,
   "id": "a0b7036c",
   "metadata": {},
   "outputs": [],
   "source": [
    "# create a connection to the server\n",
    "from picas.clients import CouchDB\n",
    "from pprint import pprint"
   ]
  },
  {
   "cell_type": "code",
   "execution_count": null,
   "id": "b07c7969",
   "metadata": {},
   "outputs": [],
   "source": [
    "db = CouchDB(\n",
    "    url=config.config['host_url'],\n",
    "    db=config.config['database'],\n",
    "    username=config.config['username'],\n",
    "    password=decrypt_password(config.config['encrypted_password']).decode())"
   ]
  },
  {
   "cell_type": "markdown",
   "id": "db4f058e",
   "metadata": {},
   "source": [
    "Define a bunch of parameters (echo commands) for the tasks that will be pushed as tokens to the database"
   ]
  },
  {
   "cell_type": "code",
   "execution_count": null,
   "id": "f3cd1336",
   "metadata": {},
   "outputs": [],
   "source": [
    "token_inputs = [\n",
    "    \"echo 'this is token A'\",\n",
    "    \"echo 'this is token B'\",\n",
    "    \"echo 'this is token C'\"\n",
    "]\n",
    "\n",
    "fields = {\"input\": token_inputs}\n",
    "pprint(fields)"
   ]
  },
  {
   "cell_type": "markdown",
   "id": "89c461ab",
   "metadata": {},
   "source": [
    "Convert the inputs to token objects that can be pushed to the database as token documents\n",
    "using the utility function create_tokens from the create_tokens.py script"
   ]
  },
  {
   "cell_type": "code",
   "execution_count": null,
   "id": "15c21fe8",
   "metadata": {
    "lines_to_next_cell": 0
   },
   "outputs": [],
   "source": [
    "from create_tokens import create_tokens"
   ]
  },
  {
   "cell_type": "code",
   "execution_count": null,
   "id": "03518dcb",
   "metadata": {},
   "outputs": [],
   "source": [
    "tokens = create_tokens(fields, offset=db.doc_count())\n",
    "pprint(tokens)"
   ]
  },
  {
   "cell_type": "markdown",
   "id": "29a9f961",
   "metadata": {},
   "source": [
    "The push tokens script (save them to the database)"
   ]
  },
  {
   "cell_type": "code",
   "execution_count": null,
   "id": "15776dfc",
   "metadata": {},
   "outputs": [],
   "source": [
    "status = db.save_documents(tokens)"
   ]
  },
  {
   "cell_type": "code",
   "execution_count": null,
   "id": "9420bc98",
   "metadata": {},
   "outputs": [],
   "source": [
    "# check for errors\n",
    "if not any(status):\n",
    "    print(\"Error saving tokens:\")\n",
    "    pprint(status)\n",
    "else:\n",
    "    print(\"Tokens saved successfully.\")"
   ]
  },
  {
   "cell_type": "markdown",
   "id": "1832fc30",
   "metadata": {},
   "source": [
    "Process the tokens by pulling tokens and using the PiCaS framework to run the tasks locally"
   ]
  },
  {
   "cell_type": "code",
   "execution_count": null,
   "id": "969c66b1",
   "metadata": {
    "lines_to_next_cell": 1
   },
   "outputs": [],
   "source": [
    "import time\n",
    "from picas.actors import RunActor\n",
    "from picas.executers import execute\n",
    "from picas.modifiers import BasicTokenModifier\n",
    "from picas.util import Timer"
   ]
  },
  {
   "cell_type": "markdown",
   "id": "3ed4f7c9",
   "metadata": {},
   "source": [
    "The goal is to pass the parameters (tokens) to the .sh script and run it.\n",
    "PiCaS is responsible and will take care of fetching the tokens.\n",
    "The user's responsibility is implement the \"process_task\" method that PiCaS will call"
   ]
  },
  {
   "cell_type": "markdown",
   "id": "78765339",
   "metadata": {},
   "source": [
    "To customize the processing, the user needs to implement the process_task method\n",
    "https://github.com/sara-nl/picasclient/blob/master/examples/example_template.py\n",
    "see actual example in the next cell"
   ]
  },
  {
   "cell_type": "code",
   "execution_count": null,
   "id": "64966b5e",
   "metadata": {
    "lines_to_next_cell": 1
   },
   "outputs": [],
   "source": [
    "class ExampleActor(RunActor):\n",
    "    \"\"\"\n",
    "    The ExampleActor is the custom implementation of a RunActor that the user needs for the processing.\n",
    "    Feel free to adjust to whatever you need, a template can be found at: example-template.py\n",
    "    \"\"\"\n",
    "    def __init__(self, db, modifier, view=\"todo\", task_type=None, **viewargs):\n",
    "        super(ExampleActor, self).__init__(db, view=view, **viewargs)\n",
    "        self.timer = Timer()\n",
    "        self.modifier = modifier\n",
    "        self.client = db\n",
    "        self.task_type = task_type\n",
    "\n",
    "    def process_task(self, token):\n",
    "        # Print token information\n",
    "        print(\"-----------------------\")\n",
    "        print(\"Working on token: \" + token['_id'])\n",
    "        for key, value in token.doc.items():\n",
    "            print(key, value)\n",
    "        print(\"-----------------------\")\n",
    "\n",
    "        # Start running the main job, the logging is done internally and saved below\n",
    "        command = [\"/usr/bin/time\", \"./process_task.sh\", self.task_type, token['input'], token['_id']]\n",
    "        out = execute(command)\n",
    "\n",
    "        logsout = f\"logs_{token['_id']}.out\"\n",
    "        logserr = f\"logs_{token['_id']}.err\"\n",
    "\n",
    "        # write the logs\n",
    "        with open(logsout, 'w') as fobj:\n",
    "            fobj.write(out[2].decode('utf-8'))\n",
    "        with open(logserr, 'w') as fobj:\n",
    "            fobj.write(out[3].decode('utf-8'))\n",
    "\n",
    "        self.subprocess = out[0]\n",
    "\n",
    "        # Get the job exit code and done in the token\n",
    "        token['exit_code'] = out[1]\n",
    "        token = self.modifier.close(token)\n",
    "\n",
    "        # Attach logs in token\n",
    "        curdate = time.strftime(\"%d/%m/%Y_%H:%M:%S_\")\n",
    "        try:\n",
    "            log_handle = open(logsout, 'rb')\n",
    "            token.put_attachment(logsout, log_handle.read())\n",
    "\n",
    "            log_handle = open(logserr, 'rb')\n",
    "            token.put_attachment(logserr, log_handle.read())\n",
    "        except:\n",
    "            pass"
   ]
  },
  {
   "cell_type": "code",
   "execution_count": null,
   "id": "9503f3c9",
   "metadata": {},
   "outputs": [],
   "source": [
    "# create the token modifier\n",
    "modifier = BasicTokenModifier()"
   ]
  },
  {
   "cell_type": "code",
   "execution_count": null,
   "id": "29c16e31",
   "metadata": {},
   "outputs": [],
   "source": [
    "# create the actor\n",
    "actor = ExampleActor(db, modifier, view='todo', design_doc='Monitor', task_type='echo_cmd')"
   ]
  },
  {
   "cell_type": "code",
   "execution_count": null,
   "id": "ebf4afe9",
   "metadata": {
    "lines_to_next_cell": 2
   },
   "outputs": [],
   "source": [
    "# start the work!\n",
    "actor.run(max_token_time=1800, max_total_time=3600, max_tasks=10, max_scrub=2)"
   ]
  },
  {
   "cell_type": "markdown",
   "id": "2cbe1fa7",
   "metadata": {},
   "source": [
    " - semi-advanced example 1\n",
    "  - add an example of a top level dir that has a bunch of subdirs, each subdir has a some raw data\n",
    "  - the directory tree is traversed and each subdir is processed as a token\n",
    "  - the task would return a word count of the files in the subdir\n",
    " - advanced example 1\n",
    "  - same as above, but the raw data is pulled from dcache\n",
    "- todo:"
   ]
  }
 ],
 "metadata": {
  "jupytext": {
   "cell_metadata_filter": "-all",
   "main_language": "python",
   "notebook_metadata_filter": "-all"
  }
 },
 "nbformat": 4,
 "nbformat_minor": 5
}

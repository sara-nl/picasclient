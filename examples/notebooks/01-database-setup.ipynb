{
 "cells": [
  {
   "cell_type": "markdown",
   "id": "92cc5ba7",
   "metadata": {},
   "source": [
    "\n",
    "# Setup and connect to the Picas database\n",
    "\n",
    "## Outline\n",
    "- Initialize the Picas configuration using the `picas exec` CLI.\n",
    "- Change the Picas CouchDB password using the `picas exec` CLI.\n",
    "- Create the DB views\n",
    "\n",
    "## references\n",
    "- the main couchdb database: https://picas.surfsara.nl:6984\n",
    "- the couchdb web ui login page: https://picas.grid.sara.nl:6984/_utils/#login\n",
    "- change the picas couchdb password: https://doc.grid.surfsara.nl/en/latest/Pages/Practices/picas/picas_change_password.html\n",
    "\n",
    "## Minimum requirements + summary of steps to run this notebook\n",
    "- Make sure that the [00-environment-setup](https://github.com/sara-nl/picasclient/blob/mher/spd-512/course-material/examples/notebooks/00-environment-setup.ipynb) notebook has been executed and that the virtual\n",
    "  environment is activated.\n",
    "- cd ~/picas_tutorial/picasclient\n",
    "- source .venv/picas-tutorial/bin/activate\n",
    "- python3 -m poetry install\n",
    "- python3 -m pip install jupyterlab\n",
    "- jupyter lab --no-browser --ip=\"127.0.0.1\""
   ]
  },
  {
   "cell_type": "code",
   "execution_count": null,
   "id": "be51e51e",
   "metadata": {},
   "outputs": [],
   "source": [
    "%cd ~/picas_tutorial/picasclient"
   ]
  },
  {
   "cell_type": "code",
   "execution_count": null,
   "id": "d5d3923c",
   "metadata": {},
   "outputs": [],
   "source": [
    "# ensure that the picasclient package is cloned (sanity check)\n",
    "! ls -l"
   ]
  },
  {
   "cell_type": "markdown",
   "id": "f5e5278d",
   "metadata": {},
   "source": [
    "# Initialize the picas configuration\n",
    "## Traditional way\n",
    "The traditional way to initialize the picas configuration is to create the ``.py`` file\n",
    "with the variables defining the connection to the picas database."
   ]
  },
  {
   "cell_type": "markdown",
   "id": "cac7284b",
   "metadata": {
    "lines_to_next_cell": 0
   },
   "source": [
    "create the examples/picasconfig.py file, in this case the password if in plain text"
   ]
  },
  {
   "cell_type": "code",
   "execution_count": null,
   "id": "a635e989",
   "metadata": {},
   "outputs": [],
   "source": [
    "%%writefile examples/picasconfig.py\n",
    "PICAS_HOST_URL=\"https://picas.surfsara.nl:6984\"\n",
    "PICAS_DATABASE=\"mydatabase\"\n",
    "PICAS_USERNAME=\"myusername\"\n",
    "PICAS_PASSWORD=\"mypassword\""
   ]
  },
  {
   "cell_type": "markdown",
   "id": "6e805ef8",
   "metadata": {},
   "source": [
    "## Modern way: Using the picas exec cli"
   ]
  },
  {
   "cell_type": "code",
   "execution_count": null,
   "id": "9ccd3e2a",
   "metadata": {},
   "outputs": [],
   "source": [
    "# prompt the user for the picas database password (masked input)\n",
    "import getpass\n",
    "db_password = getpass.getpass(\"Enter the picas database password: \")"
   ]
  },
  {
   "cell_type": "code",
   "execution_count": null,
   "id": "64cb638d",
   "metadata": {},
   "outputs": [],
   "source": [
    "# you can also specify the password on the command line, but it is not recommended\n",
    "! picas-cli init --host-url https://picas.surfsara.nl:6984 --database mydatabase --username myusername --password \"${db_password}\""
   ]
  },
  {
   "cell_type": "code",
   "execution_count": null,
   "id": "0f44f154",
   "metadata": {},
   "outputs": [],
   "source": [
    "# [optional] to create the picas configuration file using the picas exec cli and input the\n",
    "# password from the terminal\n",
    "! picas-cli init --host-url https://picas.surfsara.nl:6984 --database mydatabase --username myusername"
   ]
  },
  {
   "cell_type": "markdown",
   "id": "e30a60de",
   "metadata": {},
   "source": [
    "# [optional] Change the picas couchdb password\n",
    "To change the password, direct interaction with the CouchDB server can be used using the couchDB\n",
    "rest API, or the picas exec cli can be used.\n",
    "\n",
    "## [optional] Changing the password using the couchDB rest API\n",
    "- change the picas couchdb password: https://doc.grid.surfsara.nl/en/latest/Pages/Practices/picas/picas_change_password.html"
   ]
  },
  {
   "cell_type": "code",
   "execution_count": null,
   "id": "3facc17f",
   "metadata": {
    "lines_to_next_cell": 0
   },
   "outputs": [],
   "source": [
    "# [optional] change the password using the couchDB rest API\n",
    "!username=USERNAME\n",
    "!password=PASSWORD\n",
    "!newpassword=NEWPASSWORD\n",
    "!curl --silent --user \"$username:$password\" -X GET https://picas.surfsara.nl:6984/_users/org.couchdb.user:$username | jq '._rev' |  curl --user \"$username:$password\" -X PUT https://picas.surfsara.nl:6984/_users/org.couchdb.user:$username -H \"Accept: application/json\" -H \"Content-Type: application/json\" -H \"If-Match:$(</dev/stdin)\" -d '{\"name\":\"'$username'\", \"roles\":[], \"type\":\"user\", \"password\":\"'$newpassword'\"}'\n",
    "\n",
    "\n",
    "### [optional] Changing the password using the picas exec cli\n",
    "# The picas exec cli can be used to change the password, which is more convenient.\n",
    "# The password is encrypted and stored in the configuration file."
   ]
  },
  {
   "cell_type": "code",
   "execution_count": null,
   "id": "4e2ba5db",
   "metadata": {},
   "outputs": [],
   "source": [
    "# run this command in the terminal\n",
    "# ! picas passwd"
   ]
  },
  {
   "cell_type": "code",
   "execution_count": null,
   "id": "3a8a77fc",
   "metadata": {},
   "outputs": [],
   "source": [
    "# the password can also be specified on the command line, but it is not recommended"
   ]
  },
  {
   "cell_type": "code",
   "execution_count": null,
   "id": "e420816b",
   "metadata": {},
   "outputs": [],
   "source": [
    "import getpass\n",
    "new_db_password = getpass.getpass(\"Enter the picas database password: \")\n",
    "\n",
    "! picas-cli passwd --password $\"{new_db_password}\""
   ]
  },
  {
   "cell_type": "markdown",
   "id": "33fafe90",
   "metadata": {},
   "source": [
    "## Create the DB views\n",
    "The views of the various documents in the database need to be created.\n",
    "\n",
    "Executing this script will create the following views (of documents) in the Monitor design document:\n",
    "- done\n",
    "- error\n",
    "- locked\n",
    "- todo\n",
    "- overview_total"
   ]
  },
  {
   "cell_type": "code",
   "execution_count": null,
   "id": "7bcac5f6",
   "metadata": {},
   "outputs": [],
   "source": [
    "%cd examples"
   ]
  },
  {
   "cell_type": "code",
   "execution_count": null,
   "id": "995cec8e",
   "metadata": {},
   "outputs": [],
   "source": [
    "! ls -l"
   ]
  },
  {
   "cell_type": "code",
   "execution_count": null,
   "id": "152d1716",
   "metadata": {
    "lines_to_next_cell": 0
   },
   "outputs": [],
   "source": [
    "!python create_views.py"
   ]
  },
  {
   "cell_type": "markdown",
   "id": "70adeb43",
   "metadata": {},
   "source": [
    "To verify that the views have been created, you can login to the CouchDB web UI:\n",
    "  https://picas.grid.sara.nl:6984/_utils/#/database/mherawesomedb/_design/Monitor/_view/todo"
   ]
  }
 ],
 "metadata": {
  "jupytext": {
   "cell_metadata_filter": "-all",
   "main_language": "python",
   "notebook_metadata_filter": "-all"
  }
 },
 "nbformat": 4,
 "nbformat_minor": 5
}

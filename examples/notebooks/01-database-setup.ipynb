{
 "cells": [
  {
   "cell_type": "markdown",
   "id": "8f9ac88b",
   "metadata": {},
   "source": [
    "\n",
    "# Setup and connect to the Picas database\n",
    "\n",
    "## Outline\n",
    "- Initialize the Picas configuration using the `picas exec` CLI.\n",
    "- Change the Picas CouchDB password using the `picas exec` CLI.\n",
    "- Create the DB views\n",
    "\n",
    "## references\n",
    "- the main couchdb database: https://picas.surfsara.nl:6984\n",
    "- the couchdb web ui login page: https://picas.grid.sara.nl:6984/_utils/#login\n",
    "- change the picas couchdb password: https://doc.grid.surfsara.nl/en/latest/Pages/Practices/picas/picas_change_password.html\n",
    "\n",
    "## Minimum requirements\n",
    "- Make sure that the 00-environment-setup notebook has been run and that the virtual environment is activated.\n",
    "- cd ~/workspaces/surf/picas/picasclient\n",
    "- source .venv/picas-tutorial/bin/activate\n",
    "- pip install notebook\n",
    "- python setup.py install\n",
    "- pip install -e .   # not sure why this is not installed the picas exec cli script\n",
    "- jupyter notebook --no-browser"
   ]
  },
  {
   "cell_type": "code",
   "execution_count": null,
   "id": "cef44f9c",
   "metadata": {},
   "outputs": [],
   "source": [
    "! mkdir ~/workspaces/surf/picas"
   ]
  },
  {
   "cell_type": "code",
   "execution_count": null,
   "id": "4f2cb9c0",
   "metadata": {},
   "outputs": [],
   "source": [
    "%cd ~/workspaces/surf/picas"
   ]
  },
  {
   "cell_type": "code",
   "execution_count": null,
   "id": "4c0edcca",
   "metadata": {},
   "outputs": [],
   "source": [
    "! git clone https://github.com/mherkazandjian/picasclient.git"
   ]
  },
  {
   "cell_type": "code",
   "execution_count": null,
   "id": "47b77238",
   "metadata": {},
   "outputs": [],
   "source": [
    "! ls -l picasclient"
   ]
  },
  {
   "cell_type": "markdown",
   "id": "bd4bfea2",
   "metadata": {},
   "source": [
    "# Initialize the picas configuration\n",
    "## Traditional way\n",
    "The traditional way to initialize the picas configuration is to create the ``.py`` file\n",
    "with the variables defining the connection to the picas database."
   ]
  },
  {
   "cell_type": "code",
   "execution_count": null,
   "id": "e214f893",
   "metadata": {},
   "outputs": [],
   "source": [
    "%%writefile picasclient/examples/picasconfig.py\n",
    "PICAS_HOST_URL=\"https://picas.surfsara.nl:6984\"\n",
    "PICAS_DATABASE=\"mydatabase\"\n",
    "PICAS_USERNAME=\"myusername\"\n",
    "PICAS_PASSWORD=\"mypassword\""
   ]
  },
  {
   "cell_type": "markdown",
   "id": "5470060e",
   "metadata": {},
   "source": [
    "## Modern way: Using the picas exec cli"
   ]
  },
  {
   "cell_type": "code",
   "execution_count": null,
   "id": "ba498730",
   "metadata": {},
   "outputs": [],
   "source": [
    "# you will be prompted for the password\n",
    "! picas-cli init --host-url https://picas.surfsara.nl:6984 --database mydatabase --username myusername"
   ]
  },
  {
   "cell_type": "code",
   "execution_count": null,
   "id": "0681a16f",
   "metadata": {
    "lines_to_next_cell": 2
   },
   "outputs": [],
   "source": [
    "# you can also specify the password on the command line, but it is not recommended\n",
    "! picas-cli init --host-url https://picas.surfsara.nl:6984 --database mydatabase --username myusername --password mypassword"
   ]
  },
  {
   "cell_type": "markdown",
   "id": "3781430d",
   "metadata": {},
   "source": [
    "# Change the picas couchdb password\n",
    "To change the password, direct interaction with the CouchDB server can be used using the couchDB\n",
    "rest API, or the picas exec cli can be used.\n",
    "\n",
    "## Changing the password using the couchDB rest API\n",
    "- change the picas couchdb password: https://doc.grid.surfsara.nl/en/latest/Pages/Practices/picas/picas_change_password.html"
   ]
  },
  {
   "cell_type": "code",
   "execution_count": null,
   "id": "6cc01d05",
   "metadata": {},
   "outputs": [],
   "source": [
    "!username=USERNAME\n",
    "!password=PASSWORD\n",
    "!newpassword=NEWPASSWORD\n",
    "!curl --silent --user \"$username:$password\" -X GET https://picas.surfsara.nl:6984/_users/org.couchdb.user:$username | jq '._rev' |  curl --user \"$username:$password\" -X PUT https://picas.surfsara.nl:6984/_users/org.couchdb.user:$username -H \"Accept: application/json\" -H \"Content-Type: application/json\" -H \"If-Match:$(</dev/stdin)\" -d '{\"name\":\"'$username'\", \"roles\":[], \"type\":\"user\", \"password\":\"'$newpassword'\"}'\n",
    "\n",
    "\n",
    "### Changing the password using the picas exec cli\n",
    "# The picas exec cli can be used to change the password, which is more convenient.\n",
    "# The password is encrypted and stored in the configuration file.\n",
    "# %%! picas passwd"
   ]
  },
  {
   "cell_type": "code",
   "execution_count": null,
   "id": "3d158c65",
   "metadata": {},
   "outputs": [],
   "source": [
    "# the password can also be specified on the command line, but it is not recommended\n",
    "! picas-cli passwd --password mynewpassword"
   ]
  },
  {
   "cell_type": "markdown",
   "id": "42870028",
   "metadata": {},
   "source": [
    "## Create the DB views"
   ]
  },
  {
   "cell_type": "code",
   "execution_count": null,
   "id": "b928f8af",
   "metadata": {},
   "outputs": [],
   "source": [
    "%cd examples\n",
    "!python create_views.py"
   ]
  }
 ],
 "metadata": {
  "jupytext": {
   "cell_metadata_filter": "-all",
   "main_language": "python",
   "notebook_metadata_filter": "-all"
  }
 },
 "nbformat": 4,
 "nbformat_minor": 5
}

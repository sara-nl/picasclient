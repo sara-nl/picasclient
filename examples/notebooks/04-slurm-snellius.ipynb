{
 "cells": [
  {
   "cell_type": "markdown",
   "id": "e25b9dab",
   "metadata": {},
   "source": [
    "\n",
    "# Use PiCaS to run tasks on Snellius\n",
    "\n",
    "## Outline\n",
    "- Overview of the problems\n",
    "   - quick example via slurm on Snellius\n",
    "   - computationally demanding example via slurm on Snellius\n",
    "- Create tokens and push them to the database\n",
    "- Run the tasks on Snellius using PiCaS by pulling tokens from the database\n",
    "\n",
    "## references\n",
    "- 02-local-run.ipynb notebook\n",
    "\n",
    "## Minimum requirements\n",
    "- you have run the 02-local-run.ipynb notebook and have a working PiCaS database\n",
    "- you have access to Snellius"
   ]
  },
  {
   "cell_type": "code",
   "execution_count": null,
   "id": "5fcf5aa4",
   "metadata": {},
   "outputs": [],
   "source": [
    "%cd ~/picas_tutorial/picasclient/examples"
   ]
  },
  {
   "cell_type": "code",
   "execution_count": null,
   "id": "29a88ec2",
   "metadata": {},
   "outputs": [],
   "source": [
    "! ls"
   ]
  },
  {
   "cell_type": "markdown",
   "id": "b700b219",
   "metadata": {
    "lines_to_next_cell": 0
   },
   "source": [
    "## Create the tokens for the fractals example.\n",
    "First we need to define / create the tokens for the Fractals example.\n",
    "\n",
    "The tokens are created here for demonstration purposes to show that in this case the tokens\n",
    "are arguments to the fractals executable.\n",
    "\n",
    "The \"create_tokens.sh\" script creates tokens and puts them in a temporary file\n",
    "The expected content of the file are similar to the following:\n",
    "\n",
    "  ```\n",
    "  -q 0.100 -d 256 -m 400\n",
    "  -q 0.100 -d 256 -m 4400\n",
    "  -q 0.100 -d 256 -m 8400\n",
    "  -q 0.100 -d 2280 -m 400\n",
    "  -q 0.100 -d 2280 -m 4400\n",
    "  -q 0.100 -d 2280 -m 8400\n",
    "  -q 0.100 -d 4304 -m 400\n",
    "  ```\n",
    "These are parameters that will be passed to the executable that will be run for each token.\n",
    "(just for eyeballing purposes)"
   ]
  },
  {
   "cell_type": "code",
   "execution_count": null,
   "id": "c309beb3",
   "metadata": {},
   "outputs": [],
   "source": [
    "# execute the ./create_tokens.sh using\n",
    "_TOKENS_FILE_PATH = !./create_tokens.sh\n",
    "TOKENS_FILE_PATH = _TOKENS_FILE_PATH[0]"
   ]
  },
  {
   "cell_type": "code",
   "execution_count": null,
   "id": "bc1827af",
   "metadata": {},
   "outputs": [],
   "source": [
    "# show the content of the created tokens file using the variable\n",
    "! cat \"{TOKENS_FILE_PATH}\""
   ]
  },
  {
   "cell_type": "markdown",
   "id": "08db225e",
   "metadata": {},
   "source": [
    "## Push the tokens to the database,"
   ]
  },
  {
   "cell_type": "code",
   "execution_count": null,
   "id": "8537efcf",
   "metadata": {},
   "outputs": [],
   "source": [
    "! python push_tokens.py fractals"
   ]
  },
  {
   "cell_type": "markdown",
   "id": "ed242d14",
   "metadata": {},
   "source": [
    "Check the DB; you should see 24 new tokens in the todo [Monitor/todo](https://picas.grid.sara.nl:6984/_utils/#/database/mherawesomedb/_design/Monitor/_view/todo)"
   ]
  },
  {
   "cell_type": "markdown",
   "id": "0c1c322b",
   "metadata": {},
   "source": [
    "Compile and build the executable that runs the non trivial fractals code"
   ]
  },
  {
   "cell_type": "code",
   "execution_count": null,
   "id": "a9192bc6",
   "metadata": {},
   "outputs": [],
   "source": [
    "! mkdir -p bin\n",
    "! cc src/fractals.c -o bin/fractals -lm"
   ]
  },
  {
   "cell_type": "code",
   "execution_count": null,
   "id": "f02bc8ff",
   "metadata": {},
   "outputs": [],
   "source": [
    "# verify that the executable is there\n",
    "! ls -l bin/fractals"
   ]
  },
  {
   "cell_type": "markdown",
   "id": "ef772656",
   "metadata": {},
   "source": [
    "### The script that runs a fractals task: process_task.sh\n",
    "The script accepts the tokens as input command line parameters.\n",
    "The following is done in the script:\n",
    " - display the node name and date\n",
    " - initialize the job arguments and echo them (for verbosity)\n",
    " - for the sake of demonstration, run the input command as a bash command\n",
    " - wrap up the job by displaying the end date and exit code"
   ]
  },
  {
   "cell_type": "markdown",
   "id": "d3dfde21",
   "metadata": {},
   "source": [
    "Submit the job to Snellius with:"
   ]
  },
  {
   "cell_type": "code",
   "execution_count": null,
   "id": "98adb2e1",
   "metadata": {},
   "outputs": [],
   "source": [
    "! sbatch snellius_example.sh --task-type fractals"
   ]
  }
 ],
 "metadata": {
  "jupytext": {
   "cell_metadata_filter": "-all",
   "main_language": "python",
   "notebook_metadata_filter": "-all"
  }
 },
 "nbformat": 4,
 "nbformat_minor": 5
}
